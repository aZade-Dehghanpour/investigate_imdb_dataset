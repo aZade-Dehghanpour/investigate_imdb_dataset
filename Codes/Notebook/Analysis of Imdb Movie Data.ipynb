{
 "cells": [
  {
   "cell_type": "markdown",
   "metadata": {},
   "source": [
    "# Project: Investigate Imdb Movie Dataset \n",
    "\n",
    "## Table of Contents\n",
    "<ul>\n",
    "<li><a href=\"#intro\">Introduction</a></li>\n",
    "<li><a href=\"#wrangling\">Data Wrangling</a></li>\n",
    "<li><a href=\"#eda\">Exploratory Data Analysis</a></li>\n",
    "<li><a href=\"#conclusions\">Conclusions</a></li>\n",
    "</ul>"
   ]
  },
  {
   "cell_type": "markdown",
   "metadata": {},
   "source": [
    "<a id='intro'></a>\n",
    "## Introduction\n",
    "IMDB Movie Data:\n",
    "This dataset contains information about 10,000 movies collected from The Movie\n",
    "Database (TMDb),including user ratings and revenue.\n",
    "Data provided by [Udacity](https://d17h27t6h515a5.cloudfront.net/topher/2017/October/59dd1c4c_tmdb-movies/tmdb-movies.csv)<br>\n",
    "Original data provided by [Kaggle](https://www.kaggle.com/tmdb/tmdb-movie-metadata)<br>\n",
    "\n",
    "**Dataset features:**<br>\n",
    "- id,\n",
    "- imdb_id,\n",
    "- popularity,\n",
    "- budget,\n",
    "- revenue,\n",
    "- original_title,\n",
    "- cast,\n",
    "- homepage,\n",
    "- director,\n",
    "- tagline,\n",
    "- keywords,\n",
    "- overview,\n",
    "- runtime,\n",
    "- genres,\n",
    "- production_companies,\n",
    "- release_date,\n",
    "- vote_count,\n",
    "- vote_average,\n",
    "- release_year,\n",
    "- budget_adj*,\n",
    "- revenue_adj*<br><br>\n",
    "**The final two columns ending with “_adj” show the budget and revenue of the associated movie in terms of 2010 dollars, accounting for inflation over time.*\n",
    "\n",
    "Not all features are relevant to the questions this analysis is to answer. Therefore, a few will be taken out.\n",
    "\n",
    "### Questions:\n",
    "Question 1: Assuming that one has no prior knowledge about movies, what are the odds of ending up watching a good movie? and how can you best strategise to increase the odds?\n"
   ]
  },
  {
   "cell_type": "code",
   "execution_count": 1,
   "metadata": {},
   "outputs": [],
   "source": [
    "import pandas as pd\n",
    "import numpy as np\n",
    "import matplotlib.pyplot as plt\n",
    "import seaborn as sns\n",
    "from datetime import datetime as dt\n",
    "%matplotlib inline"
   ]
  },
  {
   "cell_type": "markdown",
   "metadata": {},
   "source": [
    "<a id='wrangling'></a>\n",
    "## Data Wrangling\n",
    "In this section data is <a href = '#load'>loaded</a>, <a href = #check>checked for cleanliness</a>, and then <a href =#trim>trimed and cleaned</a> for analysis. "
   ]
  },
  {
   "cell_type": "markdown",
   "metadata": {},
   "source": [
    "<a id = 'load'></a>"
   ]
  },
  {
   "cell_type": "markdown",
   "metadata": {},
   "source": [
    "<a id = 'load'></a>"
   ]
  },
  {
   "cell_type": "code",
   "execution_count": 2,
   "metadata": {},
   "outputs": [
    {
     "data": {
      "text/html": [
       "<div>\n",
       "<style scoped>\n",
       "    .dataframe tbody tr th:only-of-type {\n",
       "        vertical-align: middle;\n",
       "    }\n",
       "\n",
       "    .dataframe tbody tr th {\n",
       "        vertical-align: top;\n",
       "    }\n",
       "\n",
       "    .dataframe thead th {\n",
       "        text-align: right;\n",
       "    }\n",
       "</style>\n",
       "<table border=\"1\" class=\"dataframe\">\n",
       "  <thead>\n",
       "    <tr style=\"text-align: right;\">\n",
       "      <th></th>\n",
       "      <th>id</th>\n",
       "      <th>imdb_id</th>\n",
       "      <th>popularity</th>\n",
       "      <th>budget</th>\n",
       "      <th>revenue</th>\n",
       "      <th>original_title</th>\n",
       "      <th>cast</th>\n",
       "      <th>homepage</th>\n",
       "      <th>director</th>\n",
       "      <th>tagline</th>\n",
       "      <th>...</th>\n",
       "      <th>overview</th>\n",
       "      <th>runtime</th>\n",
       "      <th>genres</th>\n",
       "      <th>production_companies</th>\n",
       "      <th>release_date</th>\n",
       "      <th>vote_count</th>\n",
       "      <th>vote_average</th>\n",
       "      <th>release_year</th>\n",
       "      <th>budget_adj</th>\n",
       "      <th>revenue_adj</th>\n",
       "    </tr>\n",
       "  </thead>\n",
       "  <tbody>\n",
       "    <tr>\n",
       "      <th>0</th>\n",
       "      <td>135397</td>\n",
       "      <td>tt0369610</td>\n",
       "      <td>32.985763</td>\n",
       "      <td>150000000</td>\n",
       "      <td>1513528810</td>\n",
       "      <td>Jurassic World</td>\n",
       "      <td>Chris Pratt|Bryce Dallas Howard|Irrfan Khan|Vi...</td>\n",
       "      <td>http://www.jurassicworld.com/</td>\n",
       "      <td>Colin Trevorrow</td>\n",
       "      <td>The park is open.</td>\n",
       "      <td>...</td>\n",
       "      <td>Twenty-two years after the events of Jurassic ...</td>\n",
       "      <td>124</td>\n",
       "      <td>Action|Adventure|Science Fiction|Thriller</td>\n",
       "      <td>Universal Studios|Amblin Entertainment|Legenda...</td>\n",
       "      <td>6/9/15</td>\n",
       "      <td>5562</td>\n",
       "      <td>6.5</td>\n",
       "      <td>2015</td>\n",
       "      <td>1.379999e+08</td>\n",
       "      <td>1.392446e+09</td>\n",
       "    </tr>\n",
       "    <tr>\n",
       "      <th>1</th>\n",
       "      <td>76341</td>\n",
       "      <td>tt1392190</td>\n",
       "      <td>28.419936</td>\n",
       "      <td>150000000</td>\n",
       "      <td>378436354</td>\n",
       "      <td>Mad Max: Fury Road</td>\n",
       "      <td>Tom Hardy|Charlize Theron|Hugh Keays-Byrne|Nic...</td>\n",
       "      <td>http://www.madmaxmovie.com/</td>\n",
       "      <td>George Miller</td>\n",
       "      <td>What a Lovely Day.</td>\n",
       "      <td>...</td>\n",
       "      <td>An apocalyptic story set in the furthest reach...</td>\n",
       "      <td>120</td>\n",
       "      <td>Action|Adventure|Science Fiction|Thriller</td>\n",
       "      <td>Village Roadshow Pictures|Kennedy Miller Produ...</td>\n",
       "      <td>5/13/15</td>\n",
       "      <td>6185</td>\n",
       "      <td>7.1</td>\n",
       "      <td>2015</td>\n",
       "      <td>1.379999e+08</td>\n",
       "      <td>3.481613e+08</td>\n",
       "    </tr>\n",
       "    <tr>\n",
       "      <th>2</th>\n",
       "      <td>262500</td>\n",
       "      <td>tt2908446</td>\n",
       "      <td>13.112507</td>\n",
       "      <td>110000000</td>\n",
       "      <td>295238201</td>\n",
       "      <td>Insurgent</td>\n",
       "      <td>Shailene Woodley|Theo James|Kate Winslet|Ansel...</td>\n",
       "      <td>http://www.thedivergentseries.movie/#insurgent</td>\n",
       "      <td>Robert Schwentke</td>\n",
       "      <td>One Choice Can Destroy You</td>\n",
       "      <td>...</td>\n",
       "      <td>Beatrice Prior must confront her inner demons ...</td>\n",
       "      <td>119</td>\n",
       "      <td>Adventure|Science Fiction|Thriller</td>\n",
       "      <td>Summit Entertainment|Mandeville Films|Red Wago...</td>\n",
       "      <td>3/18/15</td>\n",
       "      <td>2480</td>\n",
       "      <td>6.3</td>\n",
       "      <td>2015</td>\n",
       "      <td>1.012000e+08</td>\n",
       "      <td>2.716190e+08</td>\n",
       "    </tr>\n",
       "  </tbody>\n",
       "</table>\n",
       "<p>3 rows × 21 columns</p>\n",
       "</div>"
      ],
      "text/plain": [
       "       id    imdb_id  popularity     budget     revenue      original_title  \\\n",
       "0  135397  tt0369610   32.985763  150000000  1513528810      Jurassic World   \n",
       "1   76341  tt1392190   28.419936  150000000   378436354  Mad Max: Fury Road   \n",
       "2  262500  tt2908446   13.112507  110000000   295238201           Insurgent   \n",
       "\n",
       "                                                cast  \\\n",
       "0  Chris Pratt|Bryce Dallas Howard|Irrfan Khan|Vi...   \n",
       "1  Tom Hardy|Charlize Theron|Hugh Keays-Byrne|Nic...   \n",
       "2  Shailene Woodley|Theo James|Kate Winslet|Ansel...   \n",
       "\n",
       "                                         homepage          director  \\\n",
       "0                   http://www.jurassicworld.com/   Colin Trevorrow   \n",
       "1                     http://www.madmaxmovie.com/     George Miller   \n",
       "2  http://www.thedivergentseries.movie/#insurgent  Robert Schwentke   \n",
       "\n",
       "                      tagline  ...  \\\n",
       "0           The park is open.  ...   \n",
       "1          What a Lovely Day.  ...   \n",
       "2  One Choice Can Destroy You  ...   \n",
       "\n",
       "                                            overview runtime  \\\n",
       "0  Twenty-two years after the events of Jurassic ...     124   \n",
       "1  An apocalyptic story set in the furthest reach...     120   \n",
       "2  Beatrice Prior must confront her inner demons ...     119   \n",
       "\n",
       "                                      genres  \\\n",
       "0  Action|Adventure|Science Fiction|Thriller   \n",
       "1  Action|Adventure|Science Fiction|Thriller   \n",
       "2         Adventure|Science Fiction|Thriller   \n",
       "\n",
       "                                production_companies release_date vote_count  \\\n",
       "0  Universal Studios|Amblin Entertainment|Legenda...       6/9/15       5562   \n",
       "1  Village Roadshow Pictures|Kennedy Miller Produ...      5/13/15       6185   \n",
       "2  Summit Entertainment|Mandeville Films|Red Wago...      3/18/15       2480   \n",
       "\n",
       "   vote_average  release_year    budget_adj   revenue_adj  \n",
       "0           6.5          2015  1.379999e+08  1.392446e+09  \n",
       "1           7.1          2015  1.379999e+08  3.481613e+08  \n",
       "2           6.3          2015  1.012000e+08  2.716190e+08  \n",
       "\n",
       "[3 rows x 21 columns]"
      ]
     },
     "execution_count": 2,
     "metadata": {},
     "output_type": "execute_result"
    }
   ],
   "source": [
    "df_raw_data = pd.read_csv('../../Datasets/movies.csv')\n",
    "df_raw_data.head(3)"
   ]
  },
  {
   "cell_type": "code",
   "execution_count": 3,
   "metadata": {},
   "outputs": [
    {
     "name": "stdout",
     "output_type": "stream",
     "text": [
      "Dataset consist of 10866 rows and 21 columns.\n"
     ]
    }
   ],
   "source": [
    "print('Dataset consist of {} rows and {} columns.'.format(df_raw_data.shape[0],df_raw_data.shape[1]))"
   ]
  },
  {
   "cell_type": "markdown",
   "metadata": {},
   "source": [
    "<a id = 'check'></a>\n",
    "#### Number of Duplicates"
   ]
  },
  {
   "cell_type": "code",
   "execution_count": 4,
   "metadata": {},
   "outputs": [
    {
     "name": "stdout",
     "output_type": "stream",
     "text": [
      "Of 10866 rows, 10865 are unique and 1 is a duplicate.\n"
     ]
    }
   ],
   "source": [
    "print('Of {} rows, {} are unique and {} is a duplicate.'.format(df_raw_data.shape[0],df_raw_data.id.nunique(),df_raw_data.duplicated().sum()))"
   ]
  },
  {
   "cell_type": "markdown",
   "metadata": {},
   "source": [
    "#### Number of Missing Values for Each Column"
   ]
  },
  {
   "cell_type": "code",
   "execution_count": 5,
   "metadata": {},
   "outputs": [
    {
     "data": {
      "text/html": [
       "<div>\n",
       "<style scoped>\n",
       "    .dataframe tbody tr th:only-of-type {\n",
       "        vertical-align: middle;\n",
       "    }\n",
       "\n",
       "    .dataframe tbody tr th {\n",
       "        vertical-align: top;\n",
       "    }\n",
       "\n",
       "    .dataframe thead th {\n",
       "        text-align: right;\n",
       "    }\n",
       "</style>\n",
       "<table border=\"1\" class=\"dataframe\">\n",
       "  <thead>\n",
       "    <tr style=\"text-align: right;\">\n",
       "      <th></th>\n",
       "      <th>id</th>\n",
       "      <th>imdb_id</th>\n",
       "      <th>popularity</th>\n",
       "      <th>budget</th>\n",
       "      <th>revenue</th>\n",
       "      <th>original_title</th>\n",
       "      <th>cast</th>\n",
       "      <th>homepage</th>\n",
       "      <th>director</th>\n",
       "      <th>tagline</th>\n",
       "      <th>...</th>\n",
       "      <th>overview</th>\n",
       "      <th>runtime</th>\n",
       "      <th>genres</th>\n",
       "      <th>production_companies</th>\n",
       "      <th>release_date</th>\n",
       "      <th>vote_count</th>\n",
       "      <th>vote_average</th>\n",
       "      <th>release_year</th>\n",
       "      <th>budget_adj</th>\n",
       "      <th>revenue_adj</th>\n",
       "    </tr>\n",
       "  </thead>\n",
       "  <tbody>\n",
       "    <tr>\n",
       "      <th>0</th>\n",
       "      <td>0</td>\n",
       "      <td>10</td>\n",
       "      <td>0</td>\n",
       "      <td>0</td>\n",
       "      <td>0</td>\n",
       "      <td>0</td>\n",
       "      <td>76</td>\n",
       "      <td>7930</td>\n",
       "      <td>44</td>\n",
       "      <td>2824</td>\n",
       "      <td>...</td>\n",
       "      <td>4</td>\n",
       "      <td>0</td>\n",
       "      <td>23</td>\n",
       "      <td>1030</td>\n",
       "      <td>0</td>\n",
       "      <td>0</td>\n",
       "      <td>0</td>\n",
       "      <td>0</td>\n",
       "      <td>0</td>\n",
       "      <td>0</td>\n",
       "    </tr>\n",
       "  </tbody>\n",
       "</table>\n",
       "<p>1 rows × 21 columns</p>\n",
       "</div>"
      ],
      "text/plain": [
       "   id  imdb_id  popularity  budget  revenue  original_title  cast  homepage  \\\n",
       "0   0       10           0       0        0               0    76      7930   \n",
       "\n",
       "   director  tagline  ...  overview  runtime  genres  production_companies  \\\n",
       "0        44     2824  ...         4        0      23                  1030   \n",
       "\n",
       "   release_date  vote_count  vote_average  release_year  budget_adj  \\\n",
       "0             0           0             0             0           0   \n",
       "\n",
       "   revenue_adj  \n",
       "0            0  \n",
       "\n",
       "[1 rows x 21 columns]"
      ]
     },
     "execution_count": 5,
     "metadata": {},
     "output_type": "execute_result"
    }
   ],
   "source": [
    "pd.DataFrame(df_raw_data.isna().sum()).transpose()"
   ]
  },
  {
   "cell_type": "markdown",
   "metadata": {},
   "source": [
    "#### Number of Empty Rows"
   ]
  },
  {
   "cell_type": "code",
   "execution_count": 6,
   "metadata": {},
   "outputs": [
    {
     "data": {
      "text/plain": [
       "0"
      ]
     },
     "execution_count": 6,
     "metadata": {},
     "output_type": "execute_result"
    }
   ],
   "source": [
    "df_raw_data.isna().all(1).sum()"
   ]
  },
  {
   "cell_type": "markdown",
   "metadata": {},
   "source": [
    "#### Number of 0s for Each Column"
   ]
  },
  {
   "cell_type": "code",
   "execution_count": 7,
   "metadata": {},
   "outputs": [
    {
     "data": {
      "text/html": [
       "<div>\n",
       "<style scoped>\n",
       "    .dataframe tbody tr th:only-of-type {\n",
       "        vertical-align: middle;\n",
       "    }\n",
       "\n",
       "    .dataframe tbody tr th {\n",
       "        vertical-align: top;\n",
       "    }\n",
       "\n",
       "    .dataframe thead th {\n",
       "        text-align: right;\n",
       "    }\n",
       "</style>\n",
       "<table border=\"1\" class=\"dataframe\">\n",
       "  <thead>\n",
       "    <tr style=\"text-align: right;\">\n",
       "      <th></th>\n",
       "      <th>id</th>\n",
       "      <th>imdb_id</th>\n",
       "      <th>popularity</th>\n",
       "      <th>budget</th>\n",
       "      <th>revenue</th>\n",
       "      <th>original_title</th>\n",
       "      <th>cast</th>\n",
       "      <th>homepage</th>\n",
       "      <th>director</th>\n",
       "      <th>tagline</th>\n",
       "      <th>...</th>\n",
       "      <th>overview</th>\n",
       "      <th>runtime</th>\n",
       "      <th>genres</th>\n",
       "      <th>production_companies</th>\n",
       "      <th>release_date</th>\n",
       "      <th>vote_count</th>\n",
       "      <th>vote_average</th>\n",
       "      <th>release_year</th>\n",
       "      <th>budget_adj</th>\n",
       "      <th>revenue_adj</th>\n",
       "    </tr>\n",
       "  </thead>\n",
       "  <tbody>\n",
       "    <tr>\n",
       "      <th>0</th>\n",
       "      <td>0</td>\n",
       "      <td>0</td>\n",
       "      <td>0</td>\n",
       "      <td>5696</td>\n",
       "      <td>6016</td>\n",
       "      <td>0</td>\n",
       "      <td>0</td>\n",
       "      <td>0</td>\n",
       "      <td>0</td>\n",
       "      <td>0</td>\n",
       "      <td>...</td>\n",
       "      <td>0</td>\n",
       "      <td>31</td>\n",
       "      <td>0</td>\n",
       "      <td>0</td>\n",
       "      <td>0</td>\n",
       "      <td>0</td>\n",
       "      <td>0</td>\n",
       "      <td>0</td>\n",
       "      <td>5696</td>\n",
       "      <td>6016</td>\n",
       "    </tr>\n",
       "  </tbody>\n",
       "</table>\n",
       "<p>1 rows × 21 columns</p>\n",
       "</div>"
      ],
      "text/plain": [
       "   id  imdb_id  popularity  budget  revenue  original_title  cast  homepage  \\\n",
       "0   0        0           0    5696     6016               0     0         0   \n",
       "\n",
       "   director  tagline  ...  overview  runtime  genres  production_companies  \\\n",
       "0         0        0  ...         0       31       0                     0   \n",
       "\n",
       "   release_date  vote_count  vote_average  release_year  budget_adj  \\\n",
       "0             0           0             0             0        5696   \n",
       "\n",
       "   revenue_adj  \n",
       "0         6016  \n",
       "\n",
       "[1 rows x 21 columns]"
      ]
     },
     "execution_count": 7,
     "metadata": {},
     "output_type": "execute_result"
    }
   ],
   "source": [
    "pd.DataFrame(df_raw_data.eq(0).sum()).transpose()"
   ]
  },
  {
   "cell_type": "markdown",
   "metadata": {},
   "source": [
    "#### Number of Unique Values for Each Column\n",
    "Although this information is not of importance for every column, it helps us ensure not more than one entry is made fore one movie. "
   ]
  },
  {
   "cell_type": "code",
   "execution_count": 8,
   "metadata": {},
   "outputs": [
    {
     "data": {
      "text/html": [
       "<div>\n",
       "<style scoped>\n",
       "    .dataframe tbody tr th:only-of-type {\n",
       "        vertical-align: middle;\n",
       "    }\n",
       "\n",
       "    .dataframe tbody tr th {\n",
       "        vertical-align: top;\n",
       "    }\n",
       "\n",
       "    .dataframe thead th {\n",
       "        text-align: right;\n",
       "    }\n",
       "</style>\n",
       "<table border=\"1\" class=\"dataframe\">\n",
       "  <thead>\n",
       "    <tr style=\"text-align: right;\">\n",
       "      <th></th>\n",
       "      <th>id</th>\n",
       "      <th>imdb_id</th>\n",
       "      <th>popularity</th>\n",
       "      <th>budget</th>\n",
       "      <th>revenue</th>\n",
       "      <th>original_title</th>\n",
       "      <th>cast</th>\n",
       "      <th>homepage</th>\n",
       "      <th>director</th>\n",
       "      <th>tagline</th>\n",
       "      <th>...</th>\n",
       "      <th>overview</th>\n",
       "      <th>runtime</th>\n",
       "      <th>genres</th>\n",
       "      <th>production_companies</th>\n",
       "      <th>release_date</th>\n",
       "      <th>vote_count</th>\n",
       "      <th>vote_average</th>\n",
       "      <th>release_year</th>\n",
       "      <th>budget_adj</th>\n",
       "      <th>revenue_adj</th>\n",
       "    </tr>\n",
       "  </thead>\n",
       "  <tbody>\n",
       "    <tr>\n",
       "      <th>0</th>\n",
       "      <td>10865</td>\n",
       "      <td>10855</td>\n",
       "      <td>10814</td>\n",
       "      <td>557</td>\n",
       "      <td>4702</td>\n",
       "      <td>10571</td>\n",
       "      <td>10719</td>\n",
       "      <td>2896</td>\n",
       "      <td>5067</td>\n",
       "      <td>7997</td>\n",
       "      <td>...</td>\n",
       "      <td>10847</td>\n",
       "      <td>247</td>\n",
       "      <td>2039</td>\n",
       "      <td>7445</td>\n",
       "      <td>5909</td>\n",
       "      <td>1289</td>\n",
       "      <td>72</td>\n",
       "      <td>56</td>\n",
       "      <td>2614</td>\n",
       "      <td>4840</td>\n",
       "    </tr>\n",
       "  </tbody>\n",
       "</table>\n",
       "<p>1 rows × 21 columns</p>\n",
       "</div>"
      ],
      "text/plain": [
       "      id  imdb_id  popularity  budget  revenue  original_title   cast  \\\n",
       "0  10865    10855       10814     557     4702           10571  10719   \n",
       "\n",
       "   homepage  director  tagline  ...  overview  runtime  genres  \\\n",
       "0      2896      5067     7997  ...     10847      247    2039   \n",
       "\n",
       "   production_companies  release_date  vote_count  vote_average  release_year  \\\n",
       "0                  7445          5909        1289            72            56   \n",
       "\n",
       "   budget_adj  revenue_adj  \n",
       "0        2614         4840  \n",
       "\n",
       "[1 rows x 21 columns]"
      ]
     },
     "execution_count": 8,
     "metadata": {},
     "output_type": "execute_result"
    }
   ],
   "source": [
    "pd.DataFrame(df_raw_data.nunique()).transpose()"
   ]
  },
  {
   "cell_type": "code",
   "execution_count": 9,
   "metadata": {},
   "outputs": [
    {
     "data": {
      "text/plain": [
       "2"
      ]
     },
     "execution_count": 9,
     "metadata": {},
     "output_type": "execute_result"
    }
   ],
   "source": [
    "df_raw_data[['original_title','director','cast']].duplicated().sum()"
   ]
  },
  {
   "cell_type": "markdown",
   "metadata": {},
   "source": [
    ">At first glance, number of unique value for ```original_title``` suggests that we have duplicate entries. However, running the code above explains that there are different movies with the same name.Moreover, it suggests that we have one more duplicate row that perhaps was not detected by ```duplicated()``` earlier du to a difference in one of the columns' entry."
   ]
  },
  {
   "cell_type": "markdown",
   "metadata": {},
   "source": [
    "#### Check Columns' Datatype"
   ]
  },
  {
   "cell_type": "code",
   "execution_count": 10,
   "metadata": {
    "scrolled": true
   },
   "outputs": [
    {
     "name": "stdout",
     "output_type": "stream",
     "text": [
      "<class 'pandas.core.frame.DataFrame'>\n",
      "RangeIndex: 10866 entries, 0 to 10865\n",
      "Data columns (total 21 columns):\n",
      " #   Column                Non-Null Count  Dtype  \n",
      "---  ------                --------------  -----  \n",
      " 0   id                    10866 non-null  int64  \n",
      " 1   imdb_id               10856 non-null  object \n",
      " 2   popularity            10866 non-null  float64\n",
      " 3   budget                10866 non-null  int64  \n",
      " 4   revenue               10866 non-null  int64  \n",
      " 5   original_title        10866 non-null  object \n",
      " 6   cast                  10790 non-null  object \n",
      " 7   homepage              2936 non-null   object \n",
      " 8   director              10822 non-null  object \n",
      " 9   tagline               8042 non-null   object \n",
      " 10  keywords              9373 non-null   object \n",
      " 11  overview              10862 non-null  object \n",
      " 12  runtime               10866 non-null  int64  \n",
      " 13  genres                10843 non-null  object \n",
      " 14  production_companies  9836 non-null   object \n",
      " 15  release_date          10866 non-null  object \n",
      " 16  vote_count            10866 non-null  int64  \n",
      " 17  vote_average          10866 non-null  float64\n",
      " 18  release_year          10866 non-null  int64  \n",
      " 19  budget_adj            10866 non-null  float64\n",
      " 20  revenue_adj           10866 non-null  float64\n",
      "dtypes: float64(4), int64(6), object(11)\n",
      "memory usage: 1.7+ MB\n"
     ]
    }
   ],
   "source": [
    "df_raw_data.info()"
   ]
  },
  {
   "cell_type": "markdown",
   "metadata": {},
   "source": [
    ">Datatype for ```release_date``` should change to ```datetime```. "
   ]
  },
  {
   "cell_type": "markdown",
   "metadata": {},
   "source": [
    "<a id ='trim'></a>\t\n",
    "### Data Cleaning and Triming"
   ]
  },
  {
   "cell_type": "markdown",
   "metadata": {},
   "source": [
    "**Drop irrelevent columns**"
   ]
  },
  {
   "cell_type": "code",
   "execution_count": 11,
   "metadata": {},
   "outputs": [],
   "source": [
    "df_raw_data.drop(['imdb_id','popularity','homepage','tagline','overview','budget','revenue'],axis =1, inplace = True)"
   ]
  },
  {
   "cell_type": "markdown",
   "metadata": {},
   "source": [
    "**Delete Duplicate Rows**"
   ]
  },
  {
   "cell_type": "code",
   "execution_count": 12,
   "metadata": {},
   "outputs": [
    {
     "name": "stdout",
     "output_type": "stream",
     "text": [
      "Number of duplicate rows: 0\n"
     ]
    }
   ],
   "source": [
    "df_raw_data.drop_duplicates(inplace = True)\n",
    "print('Number of duplicate rows: {}'.format(df_raw_data.duplicated().sum()))"
   ]
  },
  {
   "cell_type": "code",
   "execution_count": 13,
   "metadata": {},
   "outputs": [
    {
     "data": {
      "text/html": [
       "<div>\n",
       "<style scoped>\n",
       "    .dataframe tbody tr th:only-of-type {\n",
       "        vertical-align: middle;\n",
       "    }\n",
       "\n",
       "    .dataframe tbody tr th {\n",
       "        vertical-align: top;\n",
       "    }\n",
       "\n",
       "    .dataframe thead th {\n",
       "        text-align: right;\n",
       "    }\n",
       "</style>\n",
       "<table border=\"1\" class=\"dataframe\">\n",
       "  <thead>\n",
       "    <tr style=\"text-align: right;\">\n",
       "      <th></th>\n",
       "      <th>id</th>\n",
       "      <th>original_title</th>\n",
       "      <th>cast</th>\n",
       "      <th>director</th>\n",
       "      <th>keywords</th>\n",
       "      <th>runtime</th>\n",
       "      <th>genres</th>\n",
       "      <th>production_companies</th>\n",
       "      <th>release_date</th>\n",
       "      <th>vote_count</th>\n",
       "      <th>vote_average</th>\n",
       "      <th>release_year</th>\n",
       "      <th>budget_adj</th>\n",
       "      <th>revenue_adj</th>\n",
       "    </tr>\n",
       "  </thead>\n",
       "  <tbody>\n",
       "    <tr>\n",
       "      <th>6701</th>\n",
       "      <td>16781</td>\n",
       "      <td>Madea's Family Reunion</td>\n",
       "      <td>Tyler Perry|Blair Underwood|Lynn Whitfield|Bor...</td>\n",
       "      <td>Tyler Perry</td>\n",
       "      <td>spanking|based on play</td>\n",
       "      <td>110</td>\n",
       "      <td>Drama|Comedy|Romance</td>\n",
       "      <td>Lions Gate Films</td>\n",
       "      <td>2/24/06</td>\n",
       "      <td>63</td>\n",
       "      <td>6.0</td>\n",
       "      <td>2006</td>\n",
       "      <td>6.490015e+06</td>\n",
       "      <td>6.190557e+07</td>\n",
       "    </tr>\n",
       "  </tbody>\n",
       "</table>\n",
       "</div>"
      ],
      "text/plain": [
       "         id          original_title  \\\n",
       "6701  16781  Madea's Family Reunion   \n",
       "\n",
       "                                                   cast     director  \\\n",
       "6701  Tyler Perry|Blair Underwood|Lynn Whitfield|Bor...  Tyler Perry   \n",
       "\n",
       "                    keywords  runtime                genres  \\\n",
       "6701  spanking|based on play      110  Drama|Comedy|Romance   \n",
       "\n",
       "     production_companies release_date  vote_count  vote_average  \\\n",
       "6701     Lions Gate Films      2/24/06          63           6.0   \n",
       "\n",
       "      release_year    budget_adj   revenue_adj  \n",
       "6701          2006  6.490015e+06  6.190557e+07  "
      ]
     },
     "execution_count": 13,
     "metadata": {},
     "output_type": "execute_result"
    }
   ],
   "source": [
    "#Drop rows with entries on the same film\n",
    "df_raw_data[df_raw_data[['original_title','director','cast']].duplicated()]"
   ]
  },
  {
   "cell_type": "code",
   "execution_count": 14,
   "metadata": {},
   "outputs": [
    {
     "data": {
      "text/html": [
       "<div>\n",
       "<style scoped>\n",
       "    .dataframe tbody tr th:only-of-type {\n",
       "        vertical-align: middle;\n",
       "    }\n",
       "\n",
       "    .dataframe tbody tr th {\n",
       "        vertical-align: top;\n",
       "    }\n",
       "\n",
       "    .dataframe thead th {\n",
       "        text-align: right;\n",
       "    }\n",
       "</style>\n",
       "<table border=\"1\" class=\"dataframe\">\n",
       "  <thead>\n",
       "    <tr style=\"text-align: right;\">\n",
       "      <th></th>\n",
       "      <th>id</th>\n",
       "      <th>original_title</th>\n",
       "      <th>cast</th>\n",
       "      <th>director</th>\n",
       "      <th>keywords</th>\n",
       "      <th>runtime</th>\n",
       "      <th>genres</th>\n",
       "      <th>production_companies</th>\n",
       "      <th>release_date</th>\n",
       "      <th>vote_count</th>\n",
       "      <th>vote_average</th>\n",
       "      <th>release_year</th>\n",
       "      <th>budget_adj</th>\n",
       "      <th>revenue_adj</th>\n",
       "    </tr>\n",
       "  </thead>\n",
       "  <tbody>\n",
       "    <tr>\n",
       "      <th>4063</th>\n",
       "      <td>28004</td>\n",
       "      <td>Madea's Family Reunion</td>\n",
       "      <td>Tyler Perry|Blair Underwood|Lynn Whitfield|Bor...</td>\n",
       "      <td>Tyler Perry</td>\n",
       "      <td>NaN</td>\n",
       "      <td>0</td>\n",
       "      <td>Comedy</td>\n",
       "      <td>NaN</td>\n",
       "      <td>1/25/02</td>\n",
       "      <td>49</td>\n",
       "      <td>5.9</td>\n",
       "      <td>2002</td>\n",
       "      <td>7.273568e+06</td>\n",
       "      <td>0.000000e+00</td>\n",
       "    </tr>\n",
       "    <tr>\n",
       "      <th>6701</th>\n",
       "      <td>16781</td>\n",
       "      <td>Madea's Family Reunion</td>\n",
       "      <td>Tyler Perry|Blair Underwood|Lynn Whitfield|Bor...</td>\n",
       "      <td>Tyler Perry</td>\n",
       "      <td>spanking|based on play</td>\n",
       "      <td>110</td>\n",
       "      <td>Drama|Comedy|Romance</td>\n",
       "      <td>Lions Gate Films</td>\n",
       "      <td>2/24/06</td>\n",
       "      <td>63</td>\n",
       "      <td>6.0</td>\n",
       "      <td>2006</td>\n",
       "      <td>6.490015e+06</td>\n",
       "      <td>6.190557e+07</td>\n",
       "    </tr>\n",
       "  </tbody>\n",
       "</table>\n",
       "</div>"
      ],
      "text/plain": [
       "         id          original_title  \\\n",
       "4063  28004  Madea's Family Reunion   \n",
       "6701  16781  Madea's Family Reunion   \n",
       "\n",
       "                                                   cast     director  \\\n",
       "4063  Tyler Perry|Blair Underwood|Lynn Whitfield|Bor...  Tyler Perry   \n",
       "6701  Tyler Perry|Blair Underwood|Lynn Whitfield|Bor...  Tyler Perry   \n",
       "\n",
       "                    keywords  runtime                genres  \\\n",
       "4063                     NaN        0                Comedy   \n",
       "6701  spanking|based on play      110  Drama|Comedy|Romance   \n",
       "\n",
       "     production_companies release_date  vote_count  vote_average  \\\n",
       "4063                  NaN      1/25/02          49           5.9   \n",
       "6701     Lions Gate Films      2/24/06          63           6.0   \n",
       "\n",
       "      release_year    budget_adj   revenue_adj  \n",
       "4063          2002  7.273568e+06  0.000000e+00  \n",
       "6701          2006  6.490015e+06  6.190557e+07  "
      ]
     },
     "execution_count": 14,
     "metadata": {},
     "output_type": "execute_result"
    }
   ],
   "source": [
    "df_raw_data[df_raw_data['original_title'] == \"Madea's Family Reunion\"]"
   ]
  },
  {
   "cell_type": "code",
   "execution_count": 15,
   "metadata": {},
   "outputs": [
    {
     "data": {
      "text/html": [
       "<div>\n",
       "<style scoped>\n",
       "    .dataframe tbody tr th:only-of-type {\n",
       "        vertical-align: middle;\n",
       "    }\n",
       "\n",
       "    .dataframe tbody tr th {\n",
       "        vertical-align: top;\n",
       "    }\n",
       "\n",
       "    .dataframe thead th {\n",
       "        text-align: right;\n",
       "    }\n",
       "</style>\n",
       "<table border=\"1\" class=\"dataframe\">\n",
       "  <thead>\n",
       "    <tr style=\"text-align: right;\">\n",
       "      <th></th>\n",
       "      <th>id</th>\n",
       "      <th>original_title</th>\n",
       "      <th>cast</th>\n",
       "      <th>director</th>\n",
       "      <th>keywords</th>\n",
       "      <th>runtime</th>\n",
       "      <th>genres</th>\n",
       "      <th>production_companies</th>\n",
       "      <th>release_date</th>\n",
       "      <th>vote_count</th>\n",
       "      <th>vote_average</th>\n",
       "      <th>release_year</th>\n",
       "      <th>budget_adj</th>\n",
       "      <th>revenue_adj</th>\n",
       "    </tr>\n",
       "  </thead>\n",
       "  <tbody>\n",
       "    <tr>\n",
       "      <th>6701</th>\n",
       "      <td>16781</td>\n",
       "      <td>Madea's Family Reunion</td>\n",
       "      <td>Tyler Perry|Blair Underwood|Lynn Whitfield|Bor...</td>\n",
       "      <td>Tyler Perry</td>\n",
       "      <td>spanking|based on play</td>\n",
       "      <td>110</td>\n",
       "      <td>Drama|Comedy|Romance</td>\n",
       "      <td>Lions Gate Films</td>\n",
       "      <td>2/24/06</td>\n",
       "      <td>63</td>\n",
       "      <td>6.0</td>\n",
       "      <td>2006</td>\n",
       "      <td>6.490015e+06</td>\n",
       "      <td>6.190557e+07</td>\n",
       "    </tr>\n",
       "  </tbody>\n",
       "</table>\n",
       "</div>"
      ],
      "text/plain": [
       "         id          original_title  \\\n",
       "6701  16781  Madea's Family Reunion   \n",
       "\n",
       "                                                   cast     director  \\\n",
       "6701  Tyler Perry|Blair Underwood|Lynn Whitfield|Bor...  Tyler Perry   \n",
       "\n",
       "                    keywords  runtime                genres  \\\n",
       "6701  spanking|based on play      110  Drama|Comedy|Romance   \n",
       "\n",
       "     production_companies release_date  vote_count  vote_average  \\\n",
       "6701     Lions Gate Films      2/24/06          63           6.0   \n",
       "\n",
       "      release_year    budget_adj   revenue_adj  \n",
       "6701          2006  6.490015e+06  6.190557e+07  "
      ]
     },
     "execution_count": 15,
     "metadata": {},
     "output_type": "execute_result"
    }
   ],
   "source": [
    "df_raw_data.drop([4063],axis = 0, inplace = True)\n",
    "df_raw_data[df_raw_data['original_title'] == \"Madea's Family Reunion\"]"
   ]
  },
  {
   "cell_type": "markdown",
   "metadata": {},
   "source": [
    "#### Fix Datatypes"
   ]
  },
  {
   "cell_type": "markdown",
   "metadata": {},
   "source": [
    "**Column ```release_date```**<br>\n",
    "Datatype for release date is string. It should be converted to datetime."
   ]
  },
  {
   "cell_type": "code",
   "execution_count": 16,
   "metadata": {},
   "outputs": [
    {
     "data": {
      "text/plain": [
       "0       2015-06-09\n",
       "1       2015-05-13\n",
       "2       2015-03-18\n",
       "3       2015-12-15\n",
       "4       2015-04-01\n",
       "           ...    \n",
       "10861   1966-06-15\n",
       "10862   1966-12-21\n",
       "10863   1966-01-01\n",
       "10864   1966-11-02\n",
       "10865   1966-11-15\n",
       "Name: release_date, Length: 10864, dtype: datetime64[ns]"
      ]
     },
     "execution_count": 16,
     "metadata": {},
     "output_type": "execute_result"
    }
   ],
   "source": [
    "df_raw_data.release_date = df_raw_data.release_date.apply(lambda d: d.replace(d,d[:-2]))+ df_raw_data.release_year.astype(str)\n",
    "df_raw_data.release_date = pd.to_datetime(df_raw_data.release_date)\n",
    "df_raw_data.release_date"
   ]
  },
  {
   "cell_type": "markdown",
   "metadata": {},
   "source": [
    "> **Explanation**: At first attempt in converting the datatype, the results achieved where not as desired. dates such as d/m/66 were converted to 2066-m-d. So the piece of code below was used to ensure the date in column ```release_date```was more readable:<br>\n",
    "``` df_raw_data.release_date.apply(lambda d: d.replace(d,d```[ : -2]```))+ df_raw_data.release_year.astype(str)``` \n",
    "<br>Conversion took place once this problem was fixed. Consequently, given that column ```release_year```is no longer of use, it is dropped."
   ]
  },
  {
   "cell_type": "markdown",
   "metadata": {},
   "source": [
    "**Column ``` id```**<br>\n",
    "Datatype for id is ```in```. But it has no numerical meaning. It should be converted to string."
   ]
  },
  {
   "cell_type": "code",
   "execution_count": null,
   "metadata": {},
   "outputs": [],
   "source": []
  },
  {
   "cell_type": "markdown",
   "metadata": {},
   "source": [
    "### Trim data entries"
   ]
  },
  {
   "cell_type": "markdown",
   "metadata": {},
   "source": [
    "**Remove white space**"
   ]
  },
  {
   "cell_type": "code",
   "execution_count": 17,
   "metadata": {},
   "outputs": [],
   "source": [
    "for col in df_raw_data.columns:\n",
    "    if df_raw_data[col].dtype == str:\n",
    "        df_raw_data[col] = df_raw_data[col].str.strip().copy()"
   ]
  },
  {
   "cell_type": "markdown",
   "metadata": {},
   "source": [
    "**Fix columns with multipl-value data entries**"
   ]
  },
  {
   "cell_type": "markdown",
   "metadata": {},
   "source": [
    "#### Columns ```cast```,  ```keywords```, ```genres```, ```production_companies```\n",
    "A number of columns have more than one entry for each record. For example column ```cast```contains names of several actors separated by ```'|'```.\n",
    "This will make it difficult to efficiently analyse the data based on one specific entry. Let's say, we want to have a range of info on movies that have actor 'X' featuring. Current structure of data does not accomodate that easily. Therefore, the entries should be splitted. "
   ]
  },
  {
   "cell_type": "code",
   "execution_count": 18,
   "metadata": {},
   "outputs": [
    {
     "data": {
      "text/html": [
       "<div>\n",
       "<style scoped>\n",
       "    .dataframe tbody tr th:only-of-type {\n",
       "        vertical-align: middle;\n",
       "    }\n",
       "\n",
       "    .dataframe tbody tr th {\n",
       "        vertical-align: top;\n",
       "    }\n",
       "\n",
       "    .dataframe thead th {\n",
       "        text-align: right;\n",
       "    }\n",
       "</style>\n",
       "<table border=\"1\" class=\"dataframe\">\n",
       "  <thead>\n",
       "    <tr style=\"text-align: right;\">\n",
       "      <th></th>\n",
       "      <th>cast</th>\n",
       "      <th>keywords</th>\n",
       "      <th>genres</th>\n",
       "      <th>production_companies</th>\n",
       "    </tr>\n",
       "  </thead>\n",
       "  <tbody>\n",
       "    <tr>\n",
       "      <th>0</th>\n",
       "      <td>Chris Pratt|Bryce Dallas Howard|Irrfan Khan|Vi...</td>\n",
       "      <td>monster|dna|tyrannosaurus rex|velociraptor|island</td>\n",
       "      <td>Action|Adventure|Science Fiction|Thriller</td>\n",
       "      <td>Universal Studios|Amblin Entertainment|Legenda...</td>\n",
       "    </tr>\n",
       "    <tr>\n",
       "      <th>1</th>\n",
       "      <td>Tom Hardy|Charlize Theron|Hugh Keays-Byrne|Nic...</td>\n",
       "      <td>future|chase|post-apocalyptic|dystopia|australia</td>\n",
       "      <td>Action|Adventure|Science Fiction|Thriller</td>\n",
       "      <td>Village Roadshow Pictures|Kennedy Miller Produ...</td>\n",
       "    </tr>\n",
       "    <tr>\n",
       "      <th>2</th>\n",
       "      <td>Shailene Woodley|Theo James|Kate Winslet|Ansel...</td>\n",
       "      <td>based on novel|revolution|dystopia|sequel|dyst...</td>\n",
       "      <td>Adventure|Science Fiction|Thriller</td>\n",
       "      <td>Summit Entertainment|Mandeville Films|Red Wago...</td>\n",
       "    </tr>\n",
       "  </tbody>\n",
       "</table>\n",
       "</div>"
      ],
      "text/plain": [
       "                                                cast  \\\n",
       "0  Chris Pratt|Bryce Dallas Howard|Irrfan Khan|Vi...   \n",
       "1  Tom Hardy|Charlize Theron|Hugh Keays-Byrne|Nic...   \n",
       "2  Shailene Woodley|Theo James|Kate Winslet|Ansel...   \n",
       "\n",
       "                                            keywords  \\\n",
       "0  monster|dna|tyrannosaurus rex|velociraptor|island   \n",
       "1   future|chase|post-apocalyptic|dystopia|australia   \n",
       "2  based on novel|revolution|dystopia|sequel|dyst...   \n",
       "\n",
       "                                      genres  \\\n",
       "0  Action|Adventure|Science Fiction|Thriller   \n",
       "1  Action|Adventure|Science Fiction|Thriller   \n",
       "2         Adventure|Science Fiction|Thriller   \n",
       "\n",
       "                                production_companies  \n",
       "0  Universal Studios|Amblin Entertainment|Legenda...  \n",
       "1  Village Roadshow Pictures|Kennedy Miller Produ...  \n",
       "2  Summit Entertainment|Mandeville Films|Red Wago...  "
      ]
     },
     "execution_count": 18,
     "metadata": {},
     "output_type": "execute_result"
    }
   ],
   "source": [
    "df_raw_data[['cast','keywords','genres','production_companies']].head(3)"
   ]
  },
  {
   "cell_type": "markdown",
   "metadata": {},
   "source": [
    "> *Given the size of dataset, to make the process faster the dataset is to be devided into a number of subd-atasets(tables) which later, depending on the requirements of the analysis,will be merged. Consequently, handling null and 0 values will be more pragmatic this way"
   ]
  },
  {
   "cell_type": "markdown",
   "metadata": {},
   "source": [
    "**Create movie_dataset**"
   ]
  },
  {
   "cell_type": "code",
   "execution_count": 19,
   "metadata": {},
   "outputs": [
    {
     "name": "stdout",
     "output_type": "stream",
     "text": [
      "Number of Nan entries : 0\n",
      "Number of 0 entries: 11741 to be found in columns: ['runtime', 'budget_adj', 'revenue_adj']\n"
     ]
    }
   ],
   "source": [
    "df_movies = df_raw_data[['id', 'original_title','release_date','release_year','runtime','vote_average','budget_adj','revenue_adj']].copy()\n",
    "print('Number of Nan entries : {}\\nNumber of 0 entries: {} to be found in columns: {}'.format(df_movies.isna().sum().sum(),df_movies.eq(0).sum().sum(),list(df_movies.columns[df_movies.eq(0).any() == True])))"
   ]
  },
  {
   "cell_type": "markdown",
   "metadata": {},
   "source": [
    ">In order to fix this, 0 values will be replace by the average value of each feature  for each genre. Therefore, this will be fixed once the data entries for column ```genres``` are fixed."
   ]
  },
  {
   "cell_type": "code",
   "execution_count": 20,
   "metadata": {},
   "outputs": [],
   "source": [
    "df_movies.to_csv('../../Datasets/movies_dataset.csv', index = False)"
   ]
  },
  {
   "cell_type": "markdown",
   "metadata": {},
   "source": [
    "**Create actors_dataset**"
   ]
  },
  {
   "cell_type": "code",
   "execution_count": 21,
   "metadata": {
    "scrolled": true
   },
   "outputs": [
    {
     "name": "stdout",
     "output_type": "stream",
     "text": [
      "Number of Nan entries : 76\n",
      "Number of 0 entries: 0 \n"
     ]
    }
   ],
   "source": [
    "df_actors = df_raw_data[['id','cast']].copy()\n",
    "print('Number of Nan entries : {}\\nNumber of 0 entries: {} '.format(df_actors.isna().sum().sum(),df_actors.eq(0).sum().sum()))"
   ]
  },
  {
   "cell_type": "code",
   "execution_count": 22,
   "metadata": {},
   "outputs": [],
   "source": [
    "df_actors.dropna(axis = 0, inplace = True)\n",
    "df_actors.rename(columns = {'cast':'actor'}, inplace = True)\n",
    "df_actors.to_csv('../../Datasets/df_actors.csv', index = False)"
   ]
  },
  {
   "cell_type": "markdown",
   "metadata": {},
   "source": [
    ">column's name changed from ```cast ```to ```actor```"
   ]
  },
  {
   "cell_type": "code",
   "execution_count": 23,
   "metadata": {},
   "outputs": [
    {
     "data": {
      "text/html": [
       "<div>\n",
       "<style scoped>\n",
       "    .dataframe tbody tr th:only-of-type {\n",
       "        vertical-align: middle;\n",
       "    }\n",
       "\n",
       "    .dataframe tbody tr th {\n",
       "        vertical-align: top;\n",
       "    }\n",
       "\n",
       "    .dataframe thead th {\n",
       "        text-align: right;\n",
       "    }\n",
       "</style>\n",
       "<table border=\"1\" class=\"dataframe\">\n",
       "  <thead>\n",
       "    <tr style=\"text-align: right;\">\n",
       "      <th></th>\n",
       "      <th>id</th>\n",
       "      <th>actor</th>\n",
       "    </tr>\n",
       "  </thead>\n",
       "  <tbody>\n",
       "    <tr>\n",
       "      <th>0</th>\n",
       "      <td>135397</td>\n",
       "      <td>Chris Pratt|Bryce Dallas Howard|Irrfan Khan|Vi...</td>\n",
       "    </tr>\n",
       "    <tr>\n",
       "      <th>1</th>\n",
       "      <td>76341</td>\n",
       "      <td>Tom Hardy|Charlize Theron|Hugh Keays-Byrne|Nic...</td>\n",
       "    </tr>\n",
       "  </tbody>\n",
       "</table>\n",
       "</div>"
      ],
      "text/plain": [
       "       id                                              actor\n",
       "0  135397  Chris Pratt|Bryce Dallas Howard|Irrfan Khan|Vi...\n",
       "1   76341  Tom Hardy|Charlize Theron|Hugh Keays-Byrne|Nic..."
      ]
     },
     "execution_count": 23,
     "metadata": {},
     "output_type": "execute_result"
    }
   ],
   "source": [
    "df_actors.head(2)"
   ]
  },
  {
   "cell_type": "markdown",
   "metadata": {},
   "source": [
    "<a id ='actors_before'></a>\n",
    "<li><a href = #actors_after>After trimming data entries</a></li>\n"
   ]
  },
  {
   "cell_type": "markdown",
   "metadata": {},
   "source": [
    "**Create genres_dataset**"
   ]
  },
  {
   "cell_type": "code",
   "execution_count": 24,
   "metadata": {},
   "outputs": [
    {
     "name": "stdout",
     "output_type": "stream",
     "text": [
      "Number of Nan entries : 23\n",
      "Number of 0 entries: 0 \n"
     ]
    }
   ],
   "source": [
    "df_genres = df_raw_data[['id','genres']].copy()\n",
    "df_genres.rename(columns = {'genres':'genre'}, inplace = True)\n",
    "print('Number of Nan entries : {}\\nNumber of 0 entries: {} '.format(df_genres.isna().sum().sum(),df_genres.eq(0).sum().sum()))"
   ]
  },
  {
   "cell_type": "code",
   "execution_count": 25,
   "metadata": {},
   "outputs": [],
   "source": [
    "df_genres.dropna(axis = 0, inplace = True)\n",
    "df_genres.to_csv('../../Datasets/genres_dataset.csv', index = False)"
   ]
  },
  {
   "cell_type": "markdown",
   "metadata": {},
   "source": [
    ">column's name changed from ```genres ```to ```genre```"
   ]
  },
  {
   "cell_type": "markdown",
   "metadata": {},
   "source": [
    "<a id ='genres_before'></a>"
   ]
  },
  {
   "cell_type": "code",
   "execution_count": 26,
   "metadata": {},
   "outputs": [
    {
     "data": {
      "text/html": [
       "<div>\n",
       "<style scoped>\n",
       "    .dataframe tbody tr th:only-of-type {\n",
       "        vertical-align: middle;\n",
       "    }\n",
       "\n",
       "    .dataframe tbody tr th {\n",
       "        vertical-align: top;\n",
       "    }\n",
       "\n",
       "    .dataframe thead th {\n",
       "        text-align: right;\n",
       "    }\n",
       "</style>\n",
       "<table border=\"1\" class=\"dataframe\">\n",
       "  <thead>\n",
       "    <tr style=\"text-align: right;\">\n",
       "      <th></th>\n",
       "      <th>id</th>\n",
       "      <th>genre</th>\n",
       "    </tr>\n",
       "  </thead>\n",
       "  <tbody>\n",
       "    <tr>\n",
       "      <th>0</th>\n",
       "      <td>135397</td>\n",
       "      <td>Action|Adventure|Science Fiction|Thriller</td>\n",
       "    </tr>\n",
       "    <tr>\n",
       "      <th>1</th>\n",
       "      <td>76341</td>\n",
       "      <td>Action|Adventure|Science Fiction|Thriller</td>\n",
       "    </tr>\n",
       "  </tbody>\n",
       "</table>\n",
       "</div>"
      ],
      "text/plain": [
       "       id                                      genre\n",
       "0  135397  Action|Adventure|Science Fiction|Thriller\n",
       "1   76341  Action|Adventure|Science Fiction|Thriller"
      ]
     },
     "execution_count": 26,
     "metadata": {},
     "output_type": "execute_result"
    }
   ],
   "source": [
    "df_genres.head(2)"
   ]
  },
  {
   "cell_type": "markdown",
   "metadata": {},
   "source": [
    "\n",
    "<li><a href = #genres_after>After trimming data entries</a></li>\n"
   ]
  },
  {
   "cell_type": "markdown",
   "metadata": {},
   "source": [
    "**Create keywords_dataset**"
   ]
  },
  {
   "cell_type": "code",
   "execution_count": 27,
   "metadata": {},
   "outputs": [
    {
     "name": "stdout",
     "output_type": "stream",
     "text": [
      "Number of Nan entries : 1492\n",
      "Number of 0 entries: 0 \n"
     ]
    }
   ],
   "source": [
    "df_keywords = df_raw_data[['id','keywords']].copy()\n",
    "print('Number of Nan entries : {}\\nNumber of 0 entries: {} '.format(df_keywords.isna().sum().sum(),df_keywords.eq(0).sum().sum()))"
   ]
  },
  {
   "cell_type": "code",
   "execution_count": 28,
   "metadata": {},
   "outputs": [],
   "source": [
    "df_keywords.dropna(axis = 0, inplace = True)\n",
    "df_keywords.rename(columns = {'keywords':'keyword'}, inplace = True)\n",
    "df_keywords.to_csv('../../Datasets/df_keywords.csv', index = False)"
   ]
  },
  {
   "cell_type": "markdown",
   "metadata": {},
   "source": [
    ">column's name changed from ```keywords ```to ```keyword```"
   ]
  },
  {
   "cell_type": "markdown",
   "metadata": {},
   "source": [
    "<a id ='keywords_before'></a>"
   ]
  },
  {
   "cell_type": "code",
   "execution_count": 29,
   "metadata": {},
   "outputs": [
    {
     "data": {
      "text/html": [
       "<div>\n",
       "<style scoped>\n",
       "    .dataframe tbody tr th:only-of-type {\n",
       "        vertical-align: middle;\n",
       "    }\n",
       "\n",
       "    .dataframe tbody tr th {\n",
       "        vertical-align: top;\n",
       "    }\n",
       "\n",
       "    .dataframe thead th {\n",
       "        text-align: right;\n",
       "    }\n",
       "</style>\n",
       "<table border=\"1\" class=\"dataframe\">\n",
       "  <thead>\n",
       "    <tr style=\"text-align: right;\">\n",
       "      <th></th>\n",
       "      <th>id</th>\n",
       "      <th>keyword</th>\n",
       "    </tr>\n",
       "  </thead>\n",
       "  <tbody>\n",
       "    <tr>\n",
       "      <th>0</th>\n",
       "      <td>135397</td>\n",
       "      <td>monster|dna|tyrannosaurus rex|velociraptor|island</td>\n",
       "    </tr>\n",
       "    <tr>\n",
       "      <th>1</th>\n",
       "      <td>76341</td>\n",
       "      <td>future|chase|post-apocalyptic|dystopia|australia</td>\n",
       "    </tr>\n",
       "  </tbody>\n",
       "</table>\n",
       "</div>"
      ],
      "text/plain": [
       "       id                                            keyword\n",
       "0  135397  monster|dna|tyrannosaurus rex|velociraptor|island\n",
       "1   76341   future|chase|post-apocalyptic|dystopia|australia"
      ]
     },
     "execution_count": 29,
     "metadata": {},
     "output_type": "execute_result"
    }
   ],
   "source": [
    "df_keywords.head(2)"
   ]
  },
  {
   "cell_type": "markdown",
   "metadata": {},
   "source": [
    "<a id ='keywords_before'></a>\n",
    "<li><a href = #keywords_after>After trimming data entries</a></li>\n"
   ]
  },
  {
   "cell_type": "markdown",
   "metadata": {},
   "source": [
    "**Create production_companies_dataset**"
   ]
  },
  {
   "cell_type": "code",
   "execution_count": 30,
   "metadata": {},
   "outputs": [
    {
     "name": "stdout",
     "output_type": "stream",
     "text": [
      "Number of Nan entries : 1029\n",
      "Number of 0 entries: 0 \n"
     ]
    }
   ],
   "source": [
    "df_production_companies = df_raw_data[['id','production_companies']].copy()\n",
    "print('Number of Nan entries : {}\\nNumber of 0 entries: {} '.format(df_production_companies.isna().sum().sum(),df_production_companies.eq(0).sum().sum()))"
   ]
  },
  {
   "cell_type": "code",
   "execution_count": 31,
   "metadata": {},
   "outputs": [],
   "source": [
    "df_production_companies.dropna(axis = 0, inplace = True)\n",
    "df_production_companies.rename(columns = {'production_companies':'production_company'}, inplace = True)\n",
    "df_production_companies.to_csv('../../Datasets/df_production_companies.csv', index = False)"
   ]
  },
  {
   "cell_type": "markdown",
   "metadata": {},
   "source": [
    ">column's name changed from ```production_companies ```to ```production_company```"
   ]
  },
  {
   "cell_type": "markdown",
   "metadata": {},
   "source": [
    "<a id ='comp_before'></a>"
   ]
  },
  {
   "cell_type": "code",
   "execution_count": 32,
   "metadata": {},
   "outputs": [
    {
     "data": {
      "text/html": [
       "<div>\n",
       "<style scoped>\n",
       "    .dataframe tbody tr th:only-of-type {\n",
       "        vertical-align: middle;\n",
       "    }\n",
       "\n",
       "    .dataframe tbody tr th {\n",
       "        vertical-align: top;\n",
       "    }\n",
       "\n",
       "    .dataframe thead th {\n",
       "        text-align: right;\n",
       "    }\n",
       "</style>\n",
       "<table border=\"1\" class=\"dataframe\">\n",
       "  <thead>\n",
       "    <tr style=\"text-align: right;\">\n",
       "      <th></th>\n",
       "      <th>id</th>\n",
       "      <th>production_company</th>\n",
       "    </tr>\n",
       "  </thead>\n",
       "  <tbody>\n",
       "    <tr>\n",
       "      <th>0</th>\n",
       "      <td>135397</td>\n",
       "      <td>Universal Studios|Amblin Entertainment|Legenda...</td>\n",
       "    </tr>\n",
       "    <tr>\n",
       "      <th>1</th>\n",
       "      <td>76341</td>\n",
       "      <td>Village Roadshow Pictures|Kennedy Miller Produ...</td>\n",
       "    </tr>\n",
       "  </tbody>\n",
       "</table>\n",
       "</div>"
      ],
      "text/plain": [
       "       id                                 production_company\n",
       "0  135397  Universal Studios|Amblin Entertainment|Legenda...\n",
       "1   76341  Village Roadshow Pictures|Kennedy Miller Produ..."
      ]
     },
     "execution_count": 32,
     "metadata": {},
     "output_type": "execute_result"
    }
   ],
   "source": [
    "df_production_companies.head(2)"
   ]
  },
  {
   "cell_type": "markdown",
   "metadata": {},
   "source": [
    "<a id ='comp_before'></a>\n",
    "<li><a href = #comp_after>After trimming data entries</a></li>\n"
   ]
  },
  {
   "cell_type": "markdown",
   "metadata": {},
   "source": [
    "**Function: fix multiple-value data entries**"
   ]
  },
  {
   "cell_type": "code",
   "execution_count": 33,
   "metadata": {},
   "outputs": [],
   "source": [
    "def split_data (input_dataframe, column_to_trim):\n",
    "    df_to_trim = input_dataframe[input_dataframe[column_to_trim].str.find('|') != -1].copy()\n",
    "    df_temp = input_dataframe.copy()\n",
    "    ind = df_to_trim.index\n",
    "    for i in ind:\n",
    "        record_to_fix = df_temp.loc[i].copy()\n",
    "        df_temp.drop([i], axis = 0, inplace = True)\n",
    "        temp = record_to_fix.copy()\n",
    "        for j in range(record_to_fix[column_to_trim].count('|')+1):\n",
    "            temp[column_to_trim] = record_to_fix[column_to_trim].split('|')[j]\n",
    "            df_temp = df_temp.append(temp)\n",
    "    return df_temp"
   ]
  },
  {
   "cell_type": "markdown",
   "metadata": {},
   "source": [
    "**Trim data**"
   ]
  },
  {
   "cell_type": "code",
   "execution_count": 34,
   "metadata": {},
   "outputs": [],
   "source": [
    "df_actors_trimmed = split_data(df_actors,'actor')\n",
    "df_actors_trimmed.to_csv('../../Datasets/actors_dataset_trimmed.csv', index = False)\n",
    "df_genres_trimmed = split_data(df_genres, 'genre')\n",
    "df_genres_trimmed.to_csv('../../Datasets/genres_dataset_trimmed.csv', index = False)\n",
    "df_production_co_trimmed = split_data(df_production_companies, 'production_company')\n",
    "df_production_co_trimmed.to_csv('../../Datasets/production_companies_dataset_trimmed.csv', index = False)\n",
    "df_keywords_trimmed = split_data(df_keywords, 'keyword')\n",
    "df_keywords_trimmed.to_csv('../../Datasets/keywords_dataset_trimmed.csv', index = False)"
   ]
  },
  {
   "cell_type": "code",
   "execution_count": 35,
   "metadata": {},
   "outputs": [],
   "source": [
    "df_actors = pd.read_csv('../../Datasets/actors_dataset_trimmed.csv')\n",
    "df_genres = pd.read_csv('../../Datasets/genres_dataset_trimmed.csv')\n",
    "df_production_companies = pd.read_csv('../../Datasets/production_companies_dataset_trimmed.csv')\n",
    "df_keywords= pd.read_csv('../../Datasets/keywords_dataset_trimmed.csv')"
   ]
  },
  {
   "cell_type": "markdown",
   "metadata": {},
   "source": [
    "<a id = 'actors_after'></a>"
   ]
  },
  {
   "cell_type": "code",
   "execution_count": 36,
   "metadata": {},
   "outputs": [
    {
     "data": {
      "text/html": [
       "<div>\n",
       "<style scoped>\n",
       "    .dataframe tbody tr th:only-of-type {\n",
       "        vertical-align: middle;\n",
       "    }\n",
       "\n",
       "    .dataframe tbody tr th {\n",
       "        vertical-align: top;\n",
       "    }\n",
       "\n",
       "    .dataframe thead th {\n",
       "        text-align: right;\n",
       "    }\n",
       "</style>\n",
       "<table border=\"1\" class=\"dataframe\">\n",
       "  <thead>\n",
       "    <tr style=\"text-align: right;\">\n",
       "      <th></th>\n",
       "      <th>id</th>\n",
       "      <th>actor</th>\n",
       "    </tr>\n",
       "  </thead>\n",
       "  <tbody>\n",
       "    <tr>\n",
       "      <th>144</th>\n",
       "      <td>135397</td>\n",
       "      <td>Chris Pratt</td>\n",
       "    </tr>\n",
       "    <tr>\n",
       "      <th>145</th>\n",
       "      <td>135397</td>\n",
       "      <td>Bryce Dallas Howard</td>\n",
       "    </tr>\n",
       "    <tr>\n",
       "      <th>146</th>\n",
       "      <td>135397</td>\n",
       "      <td>Irrfan Khan</td>\n",
       "    </tr>\n",
       "    <tr>\n",
       "      <th>147</th>\n",
       "      <td>135397</td>\n",
       "      <td>Vincent D'Onofrio</td>\n",
       "    </tr>\n",
       "    <tr>\n",
       "      <th>148</th>\n",
       "      <td>135397</td>\n",
       "      <td>Nick Robinson</td>\n",
       "    </tr>\n",
       "    <tr>\n",
       "      <th>149</th>\n",
       "      <td>76341</td>\n",
       "      <td>Tom Hardy</td>\n",
       "    </tr>\n",
       "    <tr>\n",
       "      <th>150</th>\n",
       "      <td>76341</td>\n",
       "      <td>Charlize Theron</td>\n",
       "    </tr>\n",
       "    <tr>\n",
       "      <th>151</th>\n",
       "      <td>76341</td>\n",
       "      <td>Hugh Keays-Byrne</td>\n",
       "    </tr>\n",
       "    <tr>\n",
       "      <th>152</th>\n",
       "      <td>76341</td>\n",
       "      <td>Nicholas Hoult</td>\n",
       "    </tr>\n",
       "    <tr>\n",
       "      <th>153</th>\n",
       "      <td>76341</td>\n",
       "      <td>Josh Helman</td>\n",
       "    </tr>\n",
       "  </tbody>\n",
       "</table>\n",
       "</div>"
      ],
      "text/plain": [
       "         id                actor\n",
       "144  135397          Chris Pratt\n",
       "145  135397  Bryce Dallas Howard\n",
       "146  135397          Irrfan Khan\n",
       "147  135397    Vincent D'Onofrio\n",
       "148  135397        Nick Robinson\n",
       "149   76341            Tom Hardy\n",
       "150   76341      Charlize Theron\n",
       "151   76341     Hugh Keays-Byrne\n",
       "152   76341       Nicholas Hoult\n",
       "153   76341          Josh Helman"
      ]
     },
     "execution_count": 36,
     "metadata": {},
     "output_type": "execute_result"
    }
   ],
   "source": [
    "df_actors[(df_actors.id==135397) | (df_actors.id==76341)]"
   ]
  },
  {
   "cell_type": "markdown",
   "metadata": {},
   "source": [
    "\n",
    "<li><a href = #actors_before>Before trimming data entries</li>"
   ]
  },
  {
   "cell_type": "markdown",
   "metadata": {},
   "source": [
    "<a id = 'genres_after'></a>"
   ]
  },
  {
   "cell_type": "code",
   "execution_count": 37,
   "metadata": {},
   "outputs": [
    {
     "data": {
      "text/html": [
       "<div>\n",
       "<style scoped>\n",
       "    .dataframe tbody tr th:only-of-type {\n",
       "        vertical-align: middle;\n",
       "    }\n",
       "\n",
       "    .dataframe tbody tr th {\n",
       "        vertical-align: top;\n",
       "    }\n",
       "\n",
       "    .dataframe thead th {\n",
       "        text-align: right;\n",
       "    }\n",
       "</style>\n",
       "<table border=\"1\" class=\"dataframe\">\n",
       "  <thead>\n",
       "    <tr style=\"text-align: right;\">\n",
       "      <th></th>\n",
       "      <th>id</th>\n",
       "      <th>genre</th>\n",
       "    </tr>\n",
       "  </thead>\n",
       "  <tbody>\n",
       "    <tr>\n",
       "      <th>2327</th>\n",
       "      <td>135397</td>\n",
       "      <td>Action</td>\n",
       "    </tr>\n",
       "    <tr>\n",
       "      <th>2328</th>\n",
       "      <td>135397</td>\n",
       "      <td>Adventure</td>\n",
       "    </tr>\n",
       "    <tr>\n",
       "      <th>2329</th>\n",
       "      <td>135397</td>\n",
       "      <td>Science Fiction</td>\n",
       "    </tr>\n",
       "    <tr>\n",
       "      <th>2330</th>\n",
       "      <td>135397</td>\n",
       "      <td>Thriller</td>\n",
       "    </tr>\n",
       "    <tr>\n",
       "      <th>2331</th>\n",
       "      <td>76341</td>\n",
       "      <td>Action</td>\n",
       "    </tr>\n",
       "    <tr>\n",
       "      <th>2332</th>\n",
       "      <td>76341</td>\n",
       "      <td>Adventure</td>\n",
       "    </tr>\n",
       "    <tr>\n",
       "      <th>2333</th>\n",
       "      <td>76341</td>\n",
       "      <td>Science Fiction</td>\n",
       "    </tr>\n",
       "    <tr>\n",
       "      <th>2334</th>\n",
       "      <td>76341</td>\n",
       "      <td>Thriller</td>\n",
       "    </tr>\n",
       "  </tbody>\n",
       "</table>\n",
       "</div>"
      ],
      "text/plain": [
       "          id            genre\n",
       "2327  135397           Action\n",
       "2328  135397        Adventure\n",
       "2329  135397  Science Fiction\n",
       "2330  135397         Thriller\n",
       "2331   76341           Action\n",
       "2332   76341        Adventure\n",
       "2333   76341  Science Fiction\n",
       "2334   76341         Thriller"
      ]
     },
     "execution_count": 37,
     "metadata": {},
     "output_type": "execute_result"
    }
   ],
   "source": [
    "df_genres[(df_genres.id==135397) | (df_genres.id==76341)]"
   ]
  },
  {
   "cell_type": "markdown",
   "metadata": {},
   "source": [
    "<li><a href = #genres_before>Before trimming data entries</li>"
   ]
  },
  {
   "cell_type": "markdown",
   "metadata": {},
   "source": [
    "<a id = 'comp_after'></a>"
   ]
  },
  {
   "cell_type": "code",
   "execution_count": 38,
   "metadata": {},
   "outputs": [
    {
     "data": {
      "text/html": [
       "<div>\n",
       "<style scoped>\n",
       "    .dataframe tbody tr th:only-of-type {\n",
       "        vertical-align: middle;\n",
       "    }\n",
       "\n",
       "    .dataframe tbody tr th {\n",
       "        vertical-align: top;\n",
       "    }\n",
       "\n",
       "    .dataframe thead th {\n",
       "        text-align: right;\n",
       "    }\n",
       "</style>\n",
       "<table border=\"1\" class=\"dataframe\">\n",
       "  <thead>\n",
       "    <tr style=\"text-align: right;\">\n",
       "      <th></th>\n",
       "      <th>id</th>\n",
       "      <th>production_company</th>\n",
       "    </tr>\n",
       "  </thead>\n",
       "  <tbody>\n",
       "    <tr>\n",
       "      <th>3440</th>\n",
       "      <td>135397</td>\n",
       "      <td>Universal Studios</td>\n",
       "    </tr>\n",
       "    <tr>\n",
       "      <th>3441</th>\n",
       "      <td>135397</td>\n",
       "      <td>Amblin Entertainment</td>\n",
       "    </tr>\n",
       "    <tr>\n",
       "      <th>3442</th>\n",
       "      <td>135397</td>\n",
       "      <td>Legendary Pictures</td>\n",
       "    </tr>\n",
       "    <tr>\n",
       "      <th>3443</th>\n",
       "      <td>135397</td>\n",
       "      <td>Fuji Television Network</td>\n",
       "    </tr>\n",
       "    <tr>\n",
       "      <th>3444</th>\n",
       "      <td>135397</td>\n",
       "      <td>Dentsu</td>\n",
       "    </tr>\n",
       "    <tr>\n",
       "      <th>3445</th>\n",
       "      <td>76341</td>\n",
       "      <td>Village Roadshow Pictures</td>\n",
       "    </tr>\n",
       "    <tr>\n",
       "      <th>3446</th>\n",
       "      <td>76341</td>\n",
       "      <td>Kennedy Miller Productions</td>\n",
       "    </tr>\n",
       "  </tbody>\n",
       "</table>\n",
       "</div>"
      ],
      "text/plain": [
       "          id          production_company\n",
       "3440  135397           Universal Studios\n",
       "3441  135397        Amblin Entertainment\n",
       "3442  135397          Legendary Pictures\n",
       "3443  135397     Fuji Television Network\n",
       "3444  135397                      Dentsu\n",
       "3445   76341   Village Roadshow Pictures\n",
       "3446   76341  Kennedy Miller Productions"
      ]
     },
     "execution_count": 38,
     "metadata": {},
     "output_type": "execute_result"
    }
   ],
   "source": [
    "df_production_companies[(df_production_companies.id==135397) | (df_production_companies.id==76341)]"
   ]
  },
  {
   "cell_type": "markdown",
   "metadata": {},
   "source": [
    "<li><a href = #comp_before>Before trimming data entries</li>"
   ]
  },
  {
   "cell_type": "markdown",
   "metadata": {},
   "source": [
    "<a id = 'keywords_after'></a>"
   ]
  },
  {
   "cell_type": "code",
   "execution_count": 39,
   "metadata": {},
   "outputs": [
    {
     "data": {
      "text/html": [
       "<div>\n",
       "<style scoped>\n",
       "    .dataframe tbody tr th:only-of-type {\n",
       "        vertical-align: middle;\n",
       "    }\n",
       "\n",
       "    .dataframe tbody tr th {\n",
       "        vertical-align: top;\n",
       "    }\n",
       "\n",
       "    .dataframe thead th {\n",
       "        text-align: right;\n",
       "    }\n",
       "</style>\n",
       "<table border=\"1\" class=\"dataframe\">\n",
       "  <thead>\n",
       "    <tr style=\"text-align: right;\">\n",
       "      <th></th>\n",
       "      <th>id</th>\n",
       "      <th>keyword</th>\n",
       "    </tr>\n",
       "  </thead>\n",
       "  <tbody>\n",
       "    <tr>\n",
       "      <th>931</th>\n",
       "      <td>135397</td>\n",
       "      <td>monster</td>\n",
       "    </tr>\n",
       "    <tr>\n",
       "      <th>932</th>\n",
       "      <td>135397</td>\n",
       "      <td>dna</td>\n",
       "    </tr>\n",
       "    <tr>\n",
       "      <th>933</th>\n",
       "      <td>135397</td>\n",
       "      <td>tyrannosaurus rex</td>\n",
       "    </tr>\n",
       "    <tr>\n",
       "      <th>934</th>\n",
       "      <td>135397</td>\n",
       "      <td>velociraptor</td>\n",
       "    </tr>\n",
       "    <tr>\n",
       "      <th>935</th>\n",
       "      <td>135397</td>\n",
       "      <td>island</td>\n",
       "    </tr>\n",
       "    <tr>\n",
       "      <th>936</th>\n",
       "      <td>76341</td>\n",
       "      <td>future</td>\n",
       "    </tr>\n",
       "    <tr>\n",
       "      <th>937</th>\n",
       "      <td>76341</td>\n",
       "      <td>chase</td>\n",
       "    </tr>\n",
       "    <tr>\n",
       "      <th>938</th>\n",
       "      <td>76341</td>\n",
       "      <td>post-apocalyptic</td>\n",
       "    </tr>\n",
       "    <tr>\n",
       "      <th>939</th>\n",
       "      <td>76341</td>\n",
       "      <td>dystopia</td>\n",
       "    </tr>\n",
       "    <tr>\n",
       "      <th>940</th>\n",
       "      <td>76341</td>\n",
       "      <td>australia</td>\n",
       "    </tr>\n",
       "  </tbody>\n",
       "</table>\n",
       "</div>"
      ],
      "text/plain": [
       "         id            keyword\n",
       "931  135397            monster\n",
       "932  135397                dna\n",
       "933  135397  tyrannosaurus rex\n",
       "934  135397       velociraptor\n",
       "935  135397             island\n",
       "936   76341             future\n",
       "937   76341              chase\n",
       "938   76341   post-apocalyptic\n",
       "939   76341           dystopia\n",
       "940   76341          australia"
      ]
     },
     "execution_count": 39,
     "metadata": {},
     "output_type": "execute_result"
    }
   ],
   "source": [
    "df_keywords[(df_keywords.id==135397) | (df_keywords.id==76341)]"
   ]
  },
  {
   "cell_type": "markdown",
   "metadata": {},
   "source": [
    "<li><a href = #keywords_before>Before trimming data entries</li>"
   ]
  },
  {
   "cell_type": "markdown",
   "metadata": {},
   "source": [
    "**Fix 0 values**<br>\n",
    "Columns ```runtime```, ```budget_adj```and ```revenue_adj```have considerable number of 0 values that will impact the analysis. 0s will be replace by the average value of each column for each genre."
   ]
  },
  {
   "cell_type": "markdown",
   "metadata": {},
   "source": [
    "**Fix 0 values for ```runtime```**"
   ]
  },
  {
   "cell_type": "code",
   "execution_count": 40,
   "metadata": {},
   "outputs": [],
   "source": [
    "def fix_zero_values(column_name):\n",
    "    df_movies_temp = df_movies[['id',column_name]].copy()\n",
    "    #genre is saved in a different dataset. merge datasets first\n",
    "    df_to_fix = pd.merge(df_genres, df_movies_temp,how = 'inner',left_on = 'id', right_on = 'id')\n",
    "    #take out zeros so the average will not be affected\n",
    "    df_to_fix_Nonzero = df_to_fix[df_to_fix[column_name] != 0].copy()\n",
    "    df_to_fix_zero = df_to_fix[df_to_fix[column_name] == 0].copy()\n",
    "    #calculate average value of the column for each genre\n",
    "    average_column_value = (df_to_fix_Nonzero.groupby('genre').mean()[column_name])\n",
    "\n",
    "    #replace zero values\n",
    "    for i in df_to_fix_zero.index:\n",
    "        genre = df_to_fix_zero.loc[i,'genre']\n",
    "        average_value = average_column_value[genre]\n",
    "        df_to_fix_zero.loc[i,column_name] = average_value\n",
    "   \n",
    "    df_zero_value_fixed = df_to_fix_zero.copy()\n",
    "\n",
    "    #update values of column_name in movies dataset\n",
    "    df_movies_index = df_movies[df_movies[column_name] == 0].index\n",
    "    for i in df_movies_index:\n",
    "        movie_id = df_movies.loc[i,'id']\n",
    "        if movie_id in df_zero_value_fixed.id.unique():\n",
    "            column_value = df_zero_value_fixed[df_zero_value_fixed.id == movie_id][column_name].mean()\n",
    "            df_movies.loc[i,column_name] = column_value"
   ]
  },
  {
   "cell_type": "code",
   "execution_count": 41,
   "metadata": {},
   "outputs": [
    {
     "name": "stdout",
     "output_type": "stream",
     "text": [
      "Number of zero values in runtime columns: 1\n",
      "Number of zero values in revenue_adj columns: 23\n",
      "Number of zero values in budget_adj columns: 22\n"
     ]
    }
   ],
   "source": [
    "fix_zero_values('runtime')\n",
    "fix_zero_values('revenue_adj')\n",
    "fix_zero_values('budget_adj')\n",
    "print('Number of zero values in runtime columns:',df_movies.runtime.eq(0).sum())\n",
    "print('Number of zero values in revenue_adj columns:',df_movies.revenue_adj.eq(0).sum())\n",
    "print('Number of zero values in budget_adj columns:',df_movies.budget_adj.eq(0).sum())"
   ]
  },
  {
   "cell_type": "markdown",
   "metadata": {},
   "source": [
    "> The rows left are the ones for which value of genre column is Nan. calculation of budget/revenue without any clue will not be pragmatic. Therefore, they will be dropped"
   ]
  },
  {
   "cell_type": "code",
   "execution_count": 42,
   "metadata": {},
   "outputs": [
    {
     "name": "stdout",
     "output_type": "stream",
     "text": [
      "Number of zero values in revenue_adj columns: 0\n",
      "Number of zero values in budget_adj columns: 0\n"
     ]
    }
   ],
   "source": [
    "revenue_adj_id_list = df_movies.query('revenue_adj == \"0\"').index\n",
    "df_movies.drop(revenue_adj_id_list, axis = 0, inplace = True)\n",
    "print('Number of zero values in revenue_adj columns:',df_movies.revenue_adj.eq(0).sum())\n",
    "print('Number of zero values in budget_adj columns:',df_movies.budget_adj.eq(0).sum())"
   ]
  },
  {
   "cell_type": "code",
   "execution_count": 43,
   "metadata": {},
   "outputs": [],
   "source": [
    "df_movies.runtime = df_movies.runtime.astype(int)"
   ]
  },
  {
   "cell_type": "code",
   "execution_count": 44,
   "metadata": {},
   "outputs": [],
   "source": [
    "df_movies.to_csv('../../Datasets/movies_dataset.csv',index = False)"
   ]
  },
  {
   "cell_type": "markdown",
   "metadata": {},
   "source": [
    "<a id='eda'></a>\n",
    "## Exploratory Data Analysis\n",
    "In this section data is explored to extract insight and answer question. "
   ]
  },
  {
   "cell_type": "markdown",
   "metadata": {},
   "source": [
    "#### Question 1: Assuming that one has no prior knowledge about movies, what are the odds of ending up watching a good movie? and how can you best strategise to increase the odds?\n",
    "To answer this question, data will be explored with vote_average assigned to each movie. first step would be to label movies as good or bad so as to be able to later group them accordingly and perform the analysis."
   ]
  },
  {
   "cell_type": "code",
   "execution_count": 83,
   "metadata": {},
   "outputs": [
    {
     "data": {
      "text/plain": [
       "count    10841.000000\n",
       "mean         5.974071\n",
       "std          0.934299\n",
       "min          1.500000\n",
       "25%          5.400000\n",
       "50%          6.000000\n",
       "75%          6.600000\n",
       "max          9.200000\n",
       "Name: vote_average, dtype: float64"
      ]
     },
     "execution_count": 83,
     "metadata": {},
     "output_type": "execute_result"
    }
   ],
   "source": [
    "df_movies.vote_average.describe()"
   ]
  },
  {
   "cell_type": "code",
   "execution_count": 467,
   "metadata": {},
   "outputs": [],
   "source": [
    "df_vote_average = df_movies[['id', 'vote_average']].copy()\n",
    "df_review_temp = df_vote_average.copy()\n",
    "vote_ranges = [1, 6, 7, 9.2]\n",
    "review_labels = ['Waste of time', 'Not bad', 'Worth the time']\n",
    "df_review_temp['review'] = pd.cut(df_review_temp['vote_average'], bins = vote_ranges, labels = review_labels)\n",
    "df_movie_name = df_movies[['id','original_title']].copy()\n",
    "df_review = pd.merge(df_movie_name,df_review_temp,how = 'inner', left_on = 'id', right_on = 'id')"
   ]
  },
  {
   "cell_type": "markdown",
   "metadata": {},
   "source": [
    "#### Q1.A. what are the odds of ending up watching a good movie?"
   ]
  },
  {
   "cell_type": "code",
   "execution_count": 468,
   "metadata": {},
   "outputs": [
    {
     "data": {
      "image/png": "[encoded data removed]",
      "text/plain": [
       "<Figure size 432x288 with 1 Axes>"
      ]
     },
     "metadata": {},
     "output_type": "display_data"
    }
   ],
   "source": [
    "movie_count_per_review_label = df_review.groupby('review').id.count()\n",
    "plt.pie(movie_count_per_review_label,colors = ['brown','orange','yellow'], labels = ['Waste of time', 'Not bad', 'Worth the time'], autopct='%1.1f%%')\n",
    "plt.title('Distribution of movies according to ratings',  size = 14);"
   ]
  },
  {
   "cell_type": "markdown",
   "metadata": {},
   "source": [
    ">Odds are (73% chance) that you'll end up with a movie that won't be too bad. But if the odds are not in your favor, chances are you'll end up wastin your time (15%) since a very small number of movies are actually worth the time(12%)."
   ]
  },
  {
   "cell_type": "markdown",
   "metadata": {},
   "source": [
    "#### Q1.B. How can you best strategise to increase the odds?\n",
    "There are two factors to pay attention to. The **release year** and **genre** of a movie."
   ]
  },
  {
   "cell_type": "markdown",
   "metadata": {},
   "source": [
    "**Distribution of movies across decades**"
   ]
  },
  {
   "cell_type": "code",
   "execution_count": 469,
   "metadata": {},
   "outputs": [
    {
     "data": {
      "text/html": [
       "<div>\n",
       "<style scoped>\n",
       "    .dataframe tbody tr th:only-of-type {\n",
       "        vertical-align: middle;\n",
       "    }\n",
       "\n",
       "    .dataframe tbody tr th {\n",
       "        vertical-align: top;\n",
       "    }\n",
       "\n",
       "    .dataframe thead th {\n",
       "        text-align: right;\n",
       "    }\n",
       "</style>\n",
       "<table border=\"1\" class=\"dataframe\">\n",
       "  <thead>\n",
       "    <tr style=\"text-align: right;\">\n",
       "      <th></th>\n",
       "      <th>id</th>\n",
       "      <th>original_title</th>\n",
       "      <th>vote_average</th>\n",
       "      <th>review</th>\n",
       "      <th>decade</th>\n",
       "    </tr>\n",
       "  </thead>\n",
       "  <tbody>\n",
       "    <tr>\n",
       "      <th>0</th>\n",
       "      <td>135397</td>\n",
       "      <td>Jurassic World</td>\n",
       "      <td>6.5</td>\n",
       "      <td>Not bad</td>\n",
       "      <td>06-15</td>\n",
       "    </tr>\n",
       "    <tr>\n",
       "      <th>1</th>\n",
       "      <td>76341</td>\n",
       "      <td>Mad Max: Fury Road</td>\n",
       "      <td>7.1</td>\n",
       "      <td>Worth the time</td>\n",
       "      <td>06-15</td>\n",
       "    </tr>\n",
       "  </tbody>\n",
       "</table>\n",
       "</div>"
      ],
      "text/plain": [
       "       id      original_title  vote_average          review decade\n",
       "0  135397      Jurassic World           6.5         Not bad  06-15\n",
       "1   76341  Mad Max: Fury Road           7.1  Worth the time  06-15"
      ]
     },
     "execution_count": 469,
     "metadata": {},
     "output_type": "execute_result"
    }
   ],
   "source": [
    "#label years according to decates 66-76,76-86,86-96...\n",
    "df_release_year = df_movies[['id','release_year']].copy()\n",
    "decade_labels = ['66-75','76-85','86-95','96-05','06-15']\n",
    "years_bin = [1965,1976,1986,1996,2006,2016]\n",
    "df_release_year['decade'] = pd.cut(df_release_year['release_year'], bins = years_bin, labels = decade_labels)\n",
    "df_decades = df_release_year.drop('release_year', axis = 1, inplace = True)\n",
    "df_review_per_decade = pd.merge(df_review, df_release_year, how = 'inner', left_on = 'id', right_on = 'id')\n",
    "df_review_per_decade.head(2)"
   ]
  },
  {
   "cell_type": "code",
   "execution_count": 470,
   "metadata": {},
   "outputs": [
    {
     "data": {
      "image/png": "[encoded data removed]",
      "text/plain": [
       "<Figure size 432x288 with 1 Axes>"
      ]
     },
     "metadata": {},
     "output_type": "display_data"
    }
   ],
   "source": [
    "decades_share_in_dataset = df_release_year.groupby('decade').id.count()\n",
    "label_list = ['1966-1975','1976-1985','1986-1995','1996-2005','2006-2015']\n",
    "plt.pie(decades_share_in_dataset,colors = ['yellowgreen','gray','peachpuff','orange','lightblue'],labels = label_list, autopct ='%1.1f%%');\n",
    "plt.title('Distribution of Movies across Decades',size = 14);"
   ]
  },
  {
   "cell_type": "markdown",
   "metadata": {},
   "source": [
    ">Number of old movies available in dataset is rather small."
   ]
  },
  {
   "cell_type": "markdown",
   "metadata": {},
   "source": [
    "#### Chances that a random movie in a specific decade will not be a total waste of time"
   ]
  },
  {
   "cell_type": "code",
   "execution_count": 471,
   "metadata": {},
   "outputs": [
    {
     "data": {
      "text/html": [
       "<div>\n",
       "<style scoped>\n",
       "    .dataframe tbody tr th:only-of-type {\n",
       "        vertical-align: middle;\n",
       "    }\n",
       "\n",
       "    .dataframe tbody tr th {\n",
       "        vertical-align: top;\n",
       "    }\n",
       "\n",
       "    .dataframe thead th {\n",
       "        text-align: right;\n",
       "    }\n",
       "</style>\n",
       "<table border=\"1\" class=\"dataframe\">\n",
       "  <thead>\n",
       "    <tr style=\"text-align: right;\">\n",
       "      <th></th>\n",
       "      <th>id</th>\n",
       "      <th>original_title</th>\n",
       "      <th>vote_average</th>\n",
       "      <th>review</th>\n",
       "      <th>decade</th>\n",
       "    </tr>\n",
       "  </thead>\n",
       "  <tbody>\n",
       "    <tr>\n",
       "      <th>0</th>\n",
       "      <td>135397</td>\n",
       "      <td>Jurassic World</td>\n",
       "      <td>6.5</td>\n",
       "      <td>Not bad</td>\n",
       "      <td>06-15</td>\n",
       "    </tr>\n",
       "    <tr>\n",
       "      <th>1</th>\n",
       "      <td>76341</td>\n",
       "      <td>Mad Max: Fury Road</td>\n",
       "      <td>7.1</td>\n",
       "      <td>Worth the time</td>\n",
       "      <td>06-15</td>\n",
       "    </tr>\n",
       "  </tbody>\n",
       "</table>\n",
       "</div>"
      ],
      "text/plain": [
       "       id      original_title  vote_average          review decade\n",
       "0  135397      Jurassic World           6.5         Not bad  06-15\n",
       "1   76341  Mad Max: Fury Road           7.1  Worth the time  06-15"
      ]
     },
     "execution_count": 471,
     "metadata": {},
     "output_type": "execute_result"
    }
   ],
   "source": [
    "df_review_per_decade.head(2)"
   ]
  },
  {
   "cell_type": "code",
   "execution_count": 472,
   "metadata": {},
   "outputs": [
    {
     "data": {
      "image/png": "[encoded data removed]",
      "text/plain": [
       "<Figure size 432x288 with 1 Axes>"
      ]
     },
     "metadata": {
      "needs_background": "light"
     },
     "output_type": "display_data"
    }
   ],
   "source": [
    "movie_count_per_decade_per_review = df_review_per_decade.groupby(['decade','review']).id.count()\n",
    "movie_count_per_decade_per_review = movie_count_per_decade_per_review.astype(float)\n",
    "decade_list = list(movie_count_per_decade_per_review.index.get_level_values('decade').unique().copy())\n",
    "for decade in decade_list:\n",
    "    movie_count_per_decade_per_review[decade] = (movie_count_per_decade_per_review[decade]/movie_count_per_decade_per_review[decade].sum()).round(2)\n",
    "bar_waste_of_time = movie_count_per_decade_per_review[:,'Waste of time']\n",
    "bar_not_bad = movie_count_per_decade_per_review[:,'Not bad']\n",
    "bar_worth_the_time = movie_count_per_decade_per_review[:,'Worth the time']\n",
    "x_locations = np.arange(len(decade_list))\n",
    "bar_width = 0.35\n",
    "labels_list = ['1966-1975','1976-1985','1986-1995','1996-2005','2006-2015']\n",
    "plt.bar(x_locations, bar_waste_of_time, width = bar_width, color = 'brown', label =  'Waste of Time')\n",
    "plt.bar(x_locations, bar_not_bad, width = bar_width, color = 'orange', label =  'Not Bad', bottom = bar_waste_of_time)\n",
    "plt.bar(x_locations, bar_worth_the_time, width = bar_width, color = 'yellow', label =  'Worth the Time', bottom = bar_not_bad + bar_waste_of_time)\n",
    "plt.xticks(x_locations,labels_list)\n",
    "plt.xlabel('Decades',size = 13)\n",
    "plt.ylabel('Percentage',size = 13)\n",
    "plt.legend(loc='center left', bbox_to_anchor=(1, 0.5));"
   ]
  },
  {
   "cell_type": "markdown",
   "metadata": {},
   "source": [
    ">Seems like if you choose an old movie (released: 1966-1975) chances of it being a total trash are pretty low. You even have a 20% chance of ending up watching a really good movie. However, this category doesn't offer a big selection. <br>\n",
    "If you're not up for a disappointment, best to avoid movies released between 2006-2015. But overall, there exists a good portion of movies in each decade that won't waste one's time."
   ]
  },
  {
   "cell_type": "code",
   "execution_count": 473,
   "metadata": {},
   "outputs": [
    {
     "data": {
      "text/plain": [
       "''"
      ]
     },
     "execution_count": 473,
     "metadata": {},
     "output_type": "execute_result"
    },
    {
     "data": {
      "image/png": "[encoded data removed]",
      "text/plain": [
       "<Figure size 1440x360 with 3 Axes>"
      ]
     },
     "metadata": {
      "needs_background": "light"
     },
     "output_type": "display_data"
    }
   ],
   "source": [
    "fig, (ax1,ax2,ax3) = plt.subplots(1,3, figsize = (20,5))\n",
    "ax3.bar(x_locations, bar_waste_of_time, width = bar_width, color = 'brown', label =  'Waste of Time')\n",
    "ax3.bar(x_locations, bar_not_bad, width = bar_width, color = 'orange', label =  'Not Bad', bottom = bar_waste_of_time)\n",
    "ax3.bar(x_locations, bar_worth_the_time, width = bar_width, color = 'yellow', label =  'Worth the Time', bottom = bar_not_bad + bar_waste_of_time)\n",
    "ax3.set_xticks(x_locations)\n",
    "ax3.set_xticklabels(labels_list)\n",
    "ax3.set_xlabel('Decades',size = 14)\n",
    "ax3.set_ylabel('Percentage',size = 14)\n",
    "ax3.legend(loc='upper center', bbox_to_anchor=(0.5, -0.15), fancybox=True, shadow=True,ncol=5)\n",
    "ax2.pie(decades_share_in_dataset,colors = ['yellowgreen','gray','peachpuff','orange','lightblue'],autopct ='%1.1f%%')\n",
    "ax2.set_title('Distribution of Movies across Decades',size = 14)\n",
    "ax2.legend(loc='upper center',labels = label_list,  bbox_to_anchor=(0.5, -0.08), fancybox=True, shadow=True,ncol=2)\n",
    "ax1.pie(movie_count_per_review_label,colors = ['brown','orange','yellow'],autopct='%1.1f%%')\n",
    "ax1.set_title('Distribution of movies according to ratings',  size = 14)\n",
    "ax1.legend(labels = ['Waste of time', 'Not bad', 'Worth the time'], loc='upper center', bbox_to_anchor=(0.5, -0.15), fancybox=True, shadow=True,ncol=3)\n",
    ";"
   ]
  },
  {
   "cell_type": "markdown",
   "metadata": {},
   "source": [
    ">Overall, it seems like the chances of a movie being a total disappointment is releatively low. If you randomly choose a movie, with 85% chance it will either be ok or good. Chances of the movie being a waste of your time goes up as the realse date gets closer to the present date. However, it is not the final verdict since the number of older movies in this dataset is significantly lower. Also people tend to watch old movies only when it is strongly recommended by others, therefore the ones that got reviewed on Imdb perhaps were anyway on the higher end to begin with. "
   ]
  },
  {
   "cell_type": "markdown",
   "metadata": {},
   "source": [
    "**Distribution of movies across genres**"
   ]
  },
  {
   "cell_type": "code",
   "execution_count": 329,
   "metadata": {},
   "outputs": [
    {
     "data": {
      "text/plain": [
       "1249"
      ]
     },
     "execution_count": 329,
     "metadata": {},
     "output_type": "execute_result"
    }
   ],
   "source": []
  },
  {
   "cell_type": "code",
   "execution_count": 263,
   "metadata": {},
   "outputs": [
    {
     "data": {
      "text/plain": [
       "decade\n",
       "66-75     19\n",
       "76-85     89\n",
       "86-95    187\n",
       "96-05    397\n",
       "06-15    926\n",
       "Name: id, dtype: int64"
      ]
     },
     "execution_count": 263,
     "metadata": {},
     "output_type": "execute_result"
    }
   ],
   "source": [
    "movie_count_per_decade_per_review= df_review_per_decade.groupby(['review','decade',]).id.count()\n",
    "movie_count_per_decade_per_review['Waste of time']"
   ]
  },
  {
   "cell_type": "code",
   "execution_count": 264,
   "metadata": {},
   "outputs": [],
   "source": [
    "#calculate the average vote for each decade\n",
    "df_review_per_decade = pd.merge(df_release_year, df_vote_average, how = 'inner', left_on = 'id', right_on = 'id')\n",
    "df_review_temp['review'] = pd.cut(df_review_temp['vote_average'], bins = vote_ranges, labels = review_labels)\n"
   ]
  },
  {
   "cell_type": "code",
   "execution_count": 218,
   "metadata": {},
   "outputs": [
    {
     "data": {
      "text/plain": [
       "<matplotlib.axes._subplots.AxesSubplot at 0x12bfca850>"
      ]
     },
     "execution_count": 218,
     "metadata": {},
     "output_type": "execute_result"
    },
    {
     "data": {
      "image/png": "[encoded data removed]",
      "text/plain": [
       "<Figure size 432x288 with 1 Axes>"
      ]
     },
     "metadata": {
      "needs_background": "light"
     },
     "output_type": "display_data"
    }
   ],
   "source": [
    "movie_proportion_per_genre.plot(kind = 'bar')"
   ]
  },
  {
   "cell_type": "code",
   "execution_count": 219,
   "metadata": {},
   "outputs": [
    {
     "data": {
      "image/png": "[encoded data removed]",
      "text/plain": [
       "<Figure size 432x288 with 6 Axes>"
      ]
     },
     "metadata": {
      "needs_background": "light"
     },
     "output_type": "display_data"
    }
   ],
   "source": [
    "df_movies.hist();"
   ]
  },
  {
   "cell_type": "code",
   "execution_count": 220,
   "metadata": {},
   "outputs": [
    {
     "data": {
      "text/plain": [
       "<matplotlib.axes._subplots.AxesSubplot at 0x12bf747f0>"
      ]
     },
     "execution_count": 220,
     "metadata": {},
     "output_type": "execute_result"
    },
    {
     "data": {
      "image/png": "[encoded data removed]",
      "text/plain": [
       "<Figure size 432x288 with 1 Axes>"
      ]
     },
     "metadata": {
      "needs_background": "light"
     },
     "output_type": "display_data"
    }
   ],
   "source": [
    "df_movies.groupby('release_year').id.count().plot()"
   ]
  },
  {
   "cell_type": "code",
   "execution_count": 221,
   "metadata": {},
   "outputs": [
    {
     "data": {
      "text/plain": [
       "release_year\n",
       "1960     32\n",
       "1961     31\n",
       "1962     32\n",
       "1963     34\n",
       "1964     42\n",
       "1965     35\n",
       "1966     46\n",
       "1967     40\n",
       "1968     39\n",
       "1969     31\n",
       "1970     40\n",
       "1971     55\n",
       "1972     40\n",
       "1973     55\n",
       "1974     46\n",
       "1975     44\n",
       "1976     47\n",
       "1977     57\n",
       "1978     65\n",
       "1979     57\n",
       "1980     78\n",
       "1981     82\n",
       "1982     81\n",
       "1983     80\n",
       "1984    105\n",
       "1985    109\n",
       "1986    121\n",
       "1987    125\n",
       "1988    145\n",
       "1989    136\n",
       "1990    132\n",
       "1991    133\n",
       "1992    133\n",
       "1993    178\n",
       "1994    184\n",
       "1995    174\n",
       "1996    203\n",
       "1997    192\n",
       "1998    210\n",
       "1999    224\n",
       "2000    226\n",
       "2001    241\n",
       "2002    265\n",
       "2003    281\n",
       "2004    307\n",
       "2005    363\n",
       "2006    408\n",
       "2007    438\n",
       "2008    495\n",
       "2009    531\n",
       "2010    487\n",
       "2011    540\n",
       "2012    584\n",
       "2013    656\n",
       "2014    699\n",
       "2015    627\n",
       "Name: id, dtype: int64"
      ]
     },
     "execution_count": 221,
     "metadata": {},
     "output_type": "execute_result"
    }
   ],
   "source": [
    "df_movies.groupby('release_year').id.count()"
   ]
  },
  {
   "cell_type": "code",
   "execution_count": null,
   "metadata": {},
   "outputs": [],
   "source": []
  },
  {
   "cell_type": "code",
   "execution_count": null,
   "metadata": {},
   "outputs": [],
   "source": []
  },
  {
   "cell_type": "code",
   "execution_count": null,
   "metadata": {},
   "outputs": [],
   "source": []
  },
  {
   "cell_type": "code",
   "execution_count": null,
   "metadata": {},
   "outputs": [],
   "source": []
  },
  {
   "cell_type": "code",
   "execution_count": null,
   "metadata": {},
   "outputs": [],
   "source": []
  },
  {
   "cell_type": "code",
   "execution_count": null,
   "metadata": {},
   "outputs": [],
   "source": []
  },
  {
   "cell_type": "code",
   "execution_count": null,
   "metadata": {},
   "outputs": [],
   "source": []
  },
  {
   "cell_type": "code",
   "execution_count": null,
   "metadata": {},
   "outputs": [],
   "source": []
  },
  {
   "cell_type": "code",
   "execution_count": null,
   "metadata": {},
   "outputs": [],
   "source": []
  },
  {
   "cell_type": "code",
   "execution_count": null,
   "metadata": {},
   "outputs": [],
   "source": []
  },
  {
   "cell_type": "code",
   "execution_count": null,
   "metadata": {},
   "outputs": [],
   "source": []
  },
  {
   "cell_type": "code",
   "execution_count": null,
   "metadata": {},
   "outputs": [],
   "source": []
  },
  {
   "cell_type": "code",
   "execution_count": null,
   "metadata": {},
   "outputs": [],
   "source": []
  },
  {
   "cell_type": "code",
   "execution_count": null,
   "metadata": {},
   "outputs": [],
   "source": []
  },
  {
   "cell_type": "code",
   "execution_count": null,
   "metadata": {},
   "outputs": [],
   "source": []
  }
 ],
 "metadata": {
  "kernelspec": {
   "display_name": "Python [conda env:investigate_imdb_dataset] *",
   "language": "python",
   "name": "conda-env-investigate_imdb_dataset-py"
  },
  "language_info": {
   "codemirror_mode": {
    "name": "ipython",
    "version": 3
   },
   "file_extension": ".py",
   "mimetype": "text/x-python",
   "name": "python",
   "nbconvert_exporter": "python",
   "pygments_lexer": "ipython3",
   "version": "3.8.1"
  }
 },
 "nbformat": 4,
 "nbformat_minor": 4
}
